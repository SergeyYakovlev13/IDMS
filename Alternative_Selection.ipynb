{
  "metadata": {
    "kernelspec": {
      "language": "python",
      "display_name": "Python 3",
      "name": "python3"
    },
    "language_info": {
      "name": "python",
      "version": "3.10.13",
      "mimetype": "text/x-python",
      "codemirror_mode": {
        "name": "ipython",
        "version": 3
      },
      "pygments_lexer": "ipython3",
      "nbconvert_exporter": "python",
      "file_extension": ".py"
    },
    "kaggle": {
      "accelerator": "gpu",
      "dataSources": [
        {
          "sourceId": 2983853,
          "sourceType": "datasetVersion",
          "datasetId": 1828813
        }
      ],
      "dockerImageVersionId": 30699,
      "isInternetEnabled": true,
      "language": "python",
      "sourceType": "notebook",
      "isGpuEnabled": true
    },
    "colab": {
      "provenance": []
    }
  },
  "nbformat_minor": 0,
  "nbformat": 4,
  "cells": [
    {
      "cell_type": "markdown",
      "source": [
        "# **Task:**\n",
        "### **Method for local weights and consistency measure computing:** Eigenvector method(EM), CR\n",
        "### **Method for global weights computing:** Ideal"
      ],
      "metadata": {
        "id": "Sggv2-qnYsZm"
      }
    },
    {
      "cell_type": "markdown",
      "source": [
        "# **Importing all necessary libraries**"
      ],
      "metadata": {
        "id": "HVPjqq9PNCbU"
      }
    },
    {
      "cell_type": "code",
      "source": [
        "import warnings\n",
        "warnings.simplefilter('ignore')\n",
        "import numpy as np\n",
        "import pandas as pd\n",
        "from sklearn.metrics import f1_score,roc_auc_score\n",
        "from sklearn.linear_model import LogisticRegression\n",
        "from sklearn.svm import SVC\n",
        "from sklearn.ensemble import GradientBoostingClassifier\n",
        "from sklearn.neighbors import KNeighborsClassifier\n",
        "from sklearn.model_selection import train_test_split"
      ],
      "metadata": {
        "_uuid": "8f2839f25d086af736a60e9eeb907d3b93b6e0e5",
        "_cell_guid": "b1076dfc-b9ad-4769-8c92-a6c4dae69d19",
        "execution": {
          "iopub.status.busy": "2024-05-28T07:32:05.334930Z",
          "iopub.execute_input": "2024-05-28T07:32:05.335297Z",
          "iopub.status.idle": "2024-05-28T07:32:05.341104Z",
          "shell.execute_reply.started": "2024-05-28T07:32:05.335268Z",
          "shell.execute_reply": "2024-05-28T07:32:05.340113Z"
        },
        "trusted": true,
        "id": "3lJ5JRhpNCbV"
      },
      "execution_count": null,
      "outputs": []
    },
    {
      "cell_type": "markdown",
      "source": [
        "# **Preparing models (alternatives)**"
      ],
      "metadata": {
        "id": "G5LOcdB4NCbW"
      }
    },
    {
      "cell_type": "markdown",
      "source": [
        "For this task chosen dataset from kaggle with information about heart diseases: https://www.kaggle.com/datasets/yasserh/heart-disease-dataset."
      ],
      "metadata": {
        "id": "cqwGGc_PVYNL"
      }
    },
    {
      "cell_type": "markdown",
      "source": [
        "## **Processing data**"
      ],
      "metadata": {
        "id": "LouqEoaiWJaN"
      }
    },
    {
      "cell_type": "code",
      "source": [
        "df=pd.read_csv('/content/heart.csv')\n",
        "display(df)"
      ],
      "metadata": {
        "execution": {
          "iopub.status.busy": "2024-05-28T07:32:05.350325Z",
          "iopub.execute_input": "2024-05-28T07:32:05.350673Z",
          "iopub.status.idle": "2024-05-28T07:32:05.379556Z",
          "shell.execute_reply.started": "2024-05-28T07:32:05.350644Z",
          "shell.execute_reply": "2024-05-28T07:32:05.378462Z"
        },
        "trusted": true,
        "colab": {
          "base_uri": "https://localhost:8080/",
          "height": 423
        },
        "id": "Et9l937jNCbW",
        "outputId": "6170deaf-67ec-4ef2-89fa-217b56b97c56"
      },
      "execution_count": null,
      "outputs": [
        {
          "output_type": "display_data",
          "data": {
            "text/plain": [
              "     age  sex  cp  trestbps  chol  fbs  restecg  thalach  exang  oldpeak  \\\n",
              "0     63    1   3       145   233    1        0      150      0      2.3   \n",
              "1     37    1   2       130   250    0        1      187      0      3.5   \n",
              "2     41    0   1       130   204    0        0      172      0      1.4   \n",
              "3     56    1   1       120   236    0        1      178      0      0.8   \n",
              "4     57    0   0       120   354    0        1      163      1      0.6   \n",
              "..   ...  ...  ..       ...   ...  ...      ...      ...    ...      ...   \n",
              "298   57    0   0       140   241    0        1      123      1      0.2   \n",
              "299   45    1   3       110   264    0        1      132      0      1.2   \n",
              "300   68    1   0       144   193    1        1      141      0      3.4   \n",
              "301   57    1   0       130   131    0        1      115      1      1.2   \n",
              "302   57    0   1       130   236    0        0      174      0      0.0   \n",
              "\n",
              "     slope  ca  thal  target  \n",
              "0        0   0     1       1  \n",
              "1        0   0     2       1  \n",
              "2        2   0     2       1  \n",
              "3        2   0     2       1  \n",
              "4        2   0     2       1  \n",
              "..     ...  ..   ...     ...  \n",
              "298      1   0     3       0  \n",
              "299      1   0     3       0  \n",
              "300      1   2     3       0  \n",
              "301      1   1     3       0  \n",
              "302      1   1     2       0  \n",
              "\n",
              "[303 rows x 14 columns]"
            ],
            "text/html": [
              "\n",
              "  <div id=\"df-1ada0836-954e-4f21-83ca-fffa65938623\" class=\"colab-df-container\">\n",
              "    <div>\n",
              "<style scoped>\n",
              "    .dataframe tbody tr th:only-of-type {\n",
              "        vertical-align: middle;\n",
              "    }\n",
              "\n",
              "    .dataframe tbody tr th {\n",
              "        vertical-align: top;\n",
              "    }\n",
              "\n",
              "    .dataframe thead th {\n",
              "        text-align: right;\n",
              "    }\n",
              "</style>\n",
              "<table border=\"1\" class=\"dataframe\">\n",
              "  <thead>\n",
              "    <tr style=\"text-align: right;\">\n",
              "      <th></th>\n",
              "      <th>age</th>\n",
              "      <th>sex</th>\n",
              "      <th>cp</th>\n",
              "      <th>trestbps</th>\n",
              "      <th>chol</th>\n",
              "      <th>fbs</th>\n",
              "      <th>restecg</th>\n",
              "      <th>thalach</th>\n",
              "      <th>exang</th>\n",
              "      <th>oldpeak</th>\n",
              "      <th>slope</th>\n",
              "      <th>ca</th>\n",
              "      <th>thal</th>\n",
              "      <th>target</th>\n",
              "    </tr>\n",
              "  </thead>\n",
              "  <tbody>\n",
              "    <tr>\n",
              "      <th>0</th>\n",
              "      <td>63</td>\n",
              "      <td>1</td>\n",
              "      <td>3</td>\n",
              "      <td>145</td>\n",
              "      <td>233</td>\n",
              "      <td>1</td>\n",
              "      <td>0</td>\n",
              "      <td>150</td>\n",
              "      <td>0</td>\n",
              "      <td>2.3</td>\n",
              "      <td>0</td>\n",
              "      <td>0</td>\n",
              "      <td>1</td>\n",
              "      <td>1</td>\n",
              "    </tr>\n",
              "    <tr>\n",
              "      <th>1</th>\n",
              "      <td>37</td>\n",
              "      <td>1</td>\n",
              "      <td>2</td>\n",
              "      <td>130</td>\n",
              "      <td>250</td>\n",
              "      <td>0</td>\n",
              "      <td>1</td>\n",
              "      <td>187</td>\n",
              "      <td>0</td>\n",
              "      <td>3.5</td>\n",
              "      <td>0</td>\n",
              "      <td>0</td>\n",
              "      <td>2</td>\n",
              "      <td>1</td>\n",
              "    </tr>\n",
              "    <tr>\n",
              "      <th>2</th>\n",
              "      <td>41</td>\n",
              "      <td>0</td>\n",
              "      <td>1</td>\n",
              "      <td>130</td>\n",
              "      <td>204</td>\n",
              "      <td>0</td>\n",
              "      <td>0</td>\n",
              "      <td>172</td>\n",
              "      <td>0</td>\n",
              "      <td>1.4</td>\n",
              "      <td>2</td>\n",
              "      <td>0</td>\n",
              "      <td>2</td>\n",
              "      <td>1</td>\n",
              "    </tr>\n",
              "    <tr>\n",
              "      <th>3</th>\n",
              "      <td>56</td>\n",
              "      <td>1</td>\n",
              "      <td>1</td>\n",
              "      <td>120</td>\n",
              "      <td>236</td>\n",
              "      <td>0</td>\n",
              "      <td>1</td>\n",
              "      <td>178</td>\n",
              "      <td>0</td>\n",
              "      <td>0.8</td>\n",
              "      <td>2</td>\n",
              "      <td>0</td>\n",
              "      <td>2</td>\n",
              "      <td>1</td>\n",
              "    </tr>\n",
              "    <tr>\n",
              "      <th>4</th>\n",
              "      <td>57</td>\n",
              "      <td>0</td>\n",
              "      <td>0</td>\n",
              "      <td>120</td>\n",
              "      <td>354</td>\n",
              "      <td>0</td>\n",
              "      <td>1</td>\n",
              "      <td>163</td>\n",
              "      <td>1</td>\n",
              "      <td>0.6</td>\n",
              "      <td>2</td>\n",
              "      <td>0</td>\n",
              "      <td>2</td>\n",
              "      <td>1</td>\n",
              "    </tr>\n",
              "    <tr>\n",
              "      <th>...</th>\n",
              "      <td>...</td>\n",
              "      <td>...</td>\n",
              "      <td>...</td>\n",
              "      <td>...</td>\n",
              "      <td>...</td>\n",
              "      <td>...</td>\n",
              "      <td>...</td>\n",
              "      <td>...</td>\n",
              "      <td>...</td>\n",
              "      <td>...</td>\n",
              "      <td>...</td>\n",
              "      <td>...</td>\n",
              "      <td>...</td>\n",
              "      <td>...</td>\n",
              "    </tr>\n",
              "    <tr>\n",
              "      <th>298</th>\n",
              "      <td>57</td>\n",
              "      <td>0</td>\n",
              "      <td>0</td>\n",
              "      <td>140</td>\n",
              "      <td>241</td>\n",
              "      <td>0</td>\n",
              "      <td>1</td>\n",
              "      <td>123</td>\n",
              "      <td>1</td>\n",
              "      <td>0.2</td>\n",
              "      <td>1</td>\n",
              "      <td>0</td>\n",
              "      <td>3</td>\n",
              "      <td>0</td>\n",
              "    </tr>\n",
              "    <tr>\n",
              "      <th>299</th>\n",
              "      <td>45</td>\n",
              "      <td>1</td>\n",
              "      <td>3</td>\n",
              "      <td>110</td>\n",
              "      <td>264</td>\n",
              "      <td>0</td>\n",
              "      <td>1</td>\n",
              "      <td>132</td>\n",
              "      <td>0</td>\n",
              "      <td>1.2</td>\n",
              "      <td>1</td>\n",
              "      <td>0</td>\n",
              "      <td>3</td>\n",
              "      <td>0</td>\n",
              "    </tr>\n",
              "    <tr>\n",
              "      <th>300</th>\n",
              "      <td>68</td>\n",
              "      <td>1</td>\n",
              "      <td>0</td>\n",
              "      <td>144</td>\n",
              "      <td>193</td>\n",
              "      <td>1</td>\n",
              "      <td>1</td>\n",
              "      <td>141</td>\n",
              "      <td>0</td>\n",
              "      <td>3.4</td>\n",
              "      <td>1</td>\n",
              "      <td>2</td>\n",
              "      <td>3</td>\n",
              "      <td>0</td>\n",
              "    </tr>\n",
              "    <tr>\n",
              "      <th>301</th>\n",
              "      <td>57</td>\n",
              "      <td>1</td>\n",
              "      <td>0</td>\n",
              "      <td>130</td>\n",
              "      <td>131</td>\n",
              "      <td>0</td>\n",
              "      <td>1</td>\n",
              "      <td>115</td>\n",
              "      <td>1</td>\n",
              "      <td>1.2</td>\n",
              "      <td>1</td>\n",
              "      <td>1</td>\n",
              "      <td>3</td>\n",
              "      <td>0</td>\n",
              "    </tr>\n",
              "    <tr>\n",
              "      <th>302</th>\n",
              "      <td>57</td>\n",
              "      <td>0</td>\n",
              "      <td>1</td>\n",
              "      <td>130</td>\n",
              "      <td>236</td>\n",
              "      <td>0</td>\n",
              "      <td>0</td>\n",
              "      <td>174</td>\n",
              "      <td>0</td>\n",
              "      <td>0.0</td>\n",
              "      <td>1</td>\n",
              "      <td>1</td>\n",
              "      <td>2</td>\n",
              "      <td>0</td>\n",
              "    </tr>\n",
              "  </tbody>\n",
              "</table>\n",
              "<p>303 rows × 14 columns</p>\n",
              "</div>\n",
              "    <div class=\"colab-df-buttons\">\n",
              "\n",
              "  <div class=\"colab-df-container\">\n",
              "    <button class=\"colab-df-convert\" onclick=\"convertToInteractive('df-1ada0836-954e-4f21-83ca-fffa65938623')\"\n",
              "            title=\"Convert this dataframe to an interactive table.\"\n",
              "            style=\"display:none;\">\n",
              "\n",
              "  <svg xmlns=\"http://www.w3.org/2000/svg\" height=\"24px\" viewBox=\"0 -960 960 960\">\n",
              "    <path d=\"M120-120v-720h720v720H120Zm60-500h600v-160H180v160Zm220 220h160v-160H400v160Zm0 220h160v-160H400v160ZM180-400h160v-160H180v160Zm440 0h160v-160H620v160ZM180-180h160v-160H180v160Zm440 0h160v-160H620v160Z\"/>\n",
              "  </svg>\n",
              "    </button>\n",
              "\n",
              "  <style>\n",
              "    .colab-df-container {\n",
              "      display:flex;\n",
              "      gap: 12px;\n",
              "    }\n",
              "\n",
              "    .colab-df-convert {\n",
              "      background-color: #E8F0FE;\n",
              "      border: none;\n",
              "      border-radius: 50%;\n",
              "      cursor: pointer;\n",
              "      display: none;\n",
              "      fill: #1967D2;\n",
              "      height: 32px;\n",
              "      padding: 0 0 0 0;\n",
              "      width: 32px;\n",
              "    }\n",
              "\n",
              "    .colab-df-convert:hover {\n",
              "      background-color: #E2EBFA;\n",
              "      box-shadow: 0px 1px 2px rgba(60, 64, 67, 0.3), 0px 1px 3px 1px rgba(60, 64, 67, 0.15);\n",
              "      fill: #174EA6;\n",
              "    }\n",
              "\n",
              "    .colab-df-buttons div {\n",
              "      margin-bottom: 4px;\n",
              "    }\n",
              "\n",
              "    [theme=dark] .colab-df-convert {\n",
              "      background-color: #3B4455;\n",
              "      fill: #D2E3FC;\n",
              "    }\n",
              "\n",
              "    [theme=dark] .colab-df-convert:hover {\n",
              "      background-color: #434B5C;\n",
              "      box-shadow: 0px 1px 3px 1px rgba(0, 0, 0, 0.15);\n",
              "      filter: drop-shadow(0px 1px 2px rgba(0, 0, 0, 0.3));\n",
              "      fill: #FFFFFF;\n",
              "    }\n",
              "  </style>\n",
              "\n",
              "    <script>\n",
              "      const buttonEl =\n",
              "        document.querySelector('#df-1ada0836-954e-4f21-83ca-fffa65938623 button.colab-df-convert');\n",
              "      buttonEl.style.display =\n",
              "        google.colab.kernel.accessAllowed ? 'block' : 'none';\n",
              "\n",
              "      async function convertToInteractive(key) {\n",
              "        const element = document.querySelector('#df-1ada0836-954e-4f21-83ca-fffa65938623');\n",
              "        const dataTable =\n",
              "          await google.colab.kernel.invokeFunction('convertToInteractive',\n",
              "                                                    [key], {});\n",
              "        if (!dataTable) return;\n",
              "\n",
              "        const docLinkHtml = 'Like what you see? Visit the ' +\n",
              "          '<a target=\"_blank\" href=https://colab.research.google.com/notebooks/data_table.ipynb>data table notebook</a>'\n",
              "          + ' to learn more about interactive tables.';\n",
              "        element.innerHTML = '';\n",
              "        dataTable['output_type'] = 'display_data';\n",
              "        await google.colab.output.renderOutput(dataTable, element);\n",
              "        const docLink = document.createElement('div');\n",
              "        docLink.innerHTML = docLinkHtml;\n",
              "        element.appendChild(docLink);\n",
              "      }\n",
              "    </script>\n",
              "  </div>\n",
              "\n",
              "\n",
              "<div id=\"df-2e3cdce6-7a42-4cd6-8cc6-43b8300464df\">\n",
              "  <button class=\"colab-df-quickchart\" onclick=\"quickchart('df-2e3cdce6-7a42-4cd6-8cc6-43b8300464df')\"\n",
              "            title=\"Suggest charts\"\n",
              "            style=\"display:none;\">\n",
              "\n",
              "<svg xmlns=\"http://www.w3.org/2000/svg\" height=\"24px\"viewBox=\"0 0 24 24\"\n",
              "     width=\"24px\">\n",
              "    <g>\n",
              "        <path d=\"M19 3H5c-1.1 0-2 .9-2 2v14c0 1.1.9 2 2 2h14c1.1 0 2-.9 2-2V5c0-1.1-.9-2-2-2zM9 17H7v-7h2v7zm4 0h-2V7h2v10zm4 0h-2v-4h2v4z\"/>\n",
              "    </g>\n",
              "</svg>\n",
              "  </button>\n",
              "\n",
              "<style>\n",
              "  .colab-df-quickchart {\n",
              "      --bg-color: #E8F0FE;\n",
              "      --fill-color: #1967D2;\n",
              "      --hover-bg-color: #E2EBFA;\n",
              "      --hover-fill-color: #174EA6;\n",
              "      --disabled-fill-color: #AAA;\n",
              "      --disabled-bg-color: #DDD;\n",
              "  }\n",
              "\n",
              "  [theme=dark] .colab-df-quickchart {\n",
              "      --bg-color: #3B4455;\n",
              "      --fill-color: #D2E3FC;\n",
              "      --hover-bg-color: #434B5C;\n",
              "      --hover-fill-color: #FFFFFF;\n",
              "      --disabled-bg-color: #3B4455;\n",
              "      --disabled-fill-color: #666;\n",
              "  }\n",
              "\n",
              "  .colab-df-quickchart {\n",
              "    background-color: var(--bg-color);\n",
              "    border: none;\n",
              "    border-radius: 50%;\n",
              "    cursor: pointer;\n",
              "    display: none;\n",
              "    fill: var(--fill-color);\n",
              "    height: 32px;\n",
              "    padding: 0;\n",
              "    width: 32px;\n",
              "  }\n",
              "\n",
              "  .colab-df-quickchart:hover {\n",
              "    background-color: var(--hover-bg-color);\n",
              "    box-shadow: 0 1px 2px rgba(60, 64, 67, 0.3), 0 1px 3px 1px rgba(60, 64, 67, 0.15);\n",
              "    fill: var(--button-hover-fill-color);\n",
              "  }\n",
              "\n",
              "  .colab-df-quickchart-complete:disabled,\n",
              "  .colab-df-quickchart-complete:disabled:hover {\n",
              "    background-color: var(--disabled-bg-color);\n",
              "    fill: var(--disabled-fill-color);\n",
              "    box-shadow: none;\n",
              "  }\n",
              "\n",
              "  .colab-df-spinner {\n",
              "    border: 2px solid var(--fill-color);\n",
              "    border-color: transparent;\n",
              "    border-bottom-color: var(--fill-color);\n",
              "    animation:\n",
              "      spin 1s steps(1) infinite;\n",
              "  }\n",
              "\n",
              "  @keyframes spin {\n",
              "    0% {\n",
              "      border-color: transparent;\n",
              "      border-bottom-color: var(--fill-color);\n",
              "      border-left-color: var(--fill-color);\n",
              "    }\n",
              "    20% {\n",
              "      border-color: transparent;\n",
              "      border-left-color: var(--fill-color);\n",
              "      border-top-color: var(--fill-color);\n",
              "    }\n",
              "    30% {\n",
              "      border-color: transparent;\n",
              "      border-left-color: var(--fill-color);\n",
              "      border-top-color: var(--fill-color);\n",
              "      border-right-color: var(--fill-color);\n",
              "    }\n",
              "    40% {\n",
              "      border-color: transparent;\n",
              "      border-right-color: var(--fill-color);\n",
              "      border-top-color: var(--fill-color);\n",
              "    }\n",
              "    60% {\n",
              "      border-color: transparent;\n",
              "      border-right-color: var(--fill-color);\n",
              "    }\n",
              "    80% {\n",
              "      border-color: transparent;\n",
              "      border-right-color: var(--fill-color);\n",
              "      border-bottom-color: var(--fill-color);\n",
              "    }\n",
              "    90% {\n",
              "      border-color: transparent;\n",
              "      border-bottom-color: var(--fill-color);\n",
              "    }\n",
              "  }\n",
              "</style>\n",
              "\n",
              "  <script>\n",
              "    async function quickchart(key) {\n",
              "      const quickchartButtonEl =\n",
              "        document.querySelector('#' + key + ' button');\n",
              "      quickchartButtonEl.disabled = true;  // To prevent multiple clicks.\n",
              "      quickchartButtonEl.classList.add('colab-df-spinner');\n",
              "      try {\n",
              "        const charts = await google.colab.kernel.invokeFunction(\n",
              "            'suggestCharts', [key], {});\n",
              "      } catch (error) {\n",
              "        console.error('Error during call to suggestCharts:', error);\n",
              "      }\n",
              "      quickchartButtonEl.classList.remove('colab-df-spinner');\n",
              "      quickchartButtonEl.classList.add('colab-df-quickchart-complete');\n",
              "    }\n",
              "    (() => {\n",
              "      let quickchartButtonEl =\n",
              "        document.querySelector('#df-2e3cdce6-7a42-4cd6-8cc6-43b8300464df button');\n",
              "      quickchartButtonEl.style.display =\n",
              "        google.colab.kernel.accessAllowed ? 'block' : 'none';\n",
              "    })();\n",
              "  </script>\n",
              "</div>\n",
              "    </div>\n",
              "  </div>\n"
            ],
            "application/vnd.google.colaboratory.intrinsic+json": {
              "type": "dataframe",
              "variable_name": "df",
              "summary": "{\n  \"name\": \"df\",\n  \"rows\": 303,\n  \"fields\": [\n    {\n      \"column\": \"age\",\n      \"properties\": {\n        \"dtype\": \"number\",\n        \"std\": 9,\n        \"min\": 29,\n        \"max\": 77,\n        \"num_unique_values\": 41,\n        \"samples\": [\n          46,\n          66,\n          48\n        ],\n        \"semantic_type\": \"\",\n        \"description\": \"\"\n      }\n    },\n    {\n      \"column\": \"sex\",\n      \"properties\": {\n        \"dtype\": \"number\",\n        \"std\": 0,\n        \"min\": 0,\n        \"max\": 1,\n        \"num_unique_values\": 2,\n        \"samples\": [\n          0,\n          1\n        ],\n        \"semantic_type\": \"\",\n        \"description\": \"\"\n      }\n    },\n    {\n      \"column\": \"cp\",\n      \"properties\": {\n        \"dtype\": \"number\",\n        \"std\": 1,\n        \"min\": 0,\n        \"max\": 3,\n        \"num_unique_values\": 4,\n        \"samples\": [\n          2,\n          0\n        ],\n        \"semantic_type\": \"\",\n        \"description\": \"\"\n      }\n    },\n    {\n      \"column\": \"trestbps\",\n      \"properties\": {\n        \"dtype\": \"number\",\n        \"std\": 17,\n        \"min\": 94,\n        \"max\": 200,\n        \"num_unique_values\": 49,\n        \"samples\": [\n          104,\n          123\n        ],\n        \"semantic_type\": \"\",\n        \"description\": \"\"\n      }\n    },\n    {\n      \"column\": \"chol\",\n      \"properties\": {\n        \"dtype\": \"number\",\n        \"std\": 51,\n        \"min\": 126,\n        \"max\": 564,\n        \"num_unique_values\": 152,\n        \"samples\": [\n          277,\n          169\n        ],\n        \"semantic_type\": \"\",\n        \"description\": \"\"\n      }\n    },\n    {\n      \"column\": \"fbs\",\n      \"properties\": {\n        \"dtype\": \"number\",\n        \"std\": 0,\n        \"min\": 0,\n        \"max\": 1,\n        \"num_unique_values\": 2,\n        \"samples\": [\n          0,\n          1\n        ],\n        \"semantic_type\": \"\",\n        \"description\": \"\"\n      }\n    },\n    {\n      \"column\": \"restecg\",\n      \"properties\": {\n        \"dtype\": \"number\",\n        \"std\": 0,\n        \"min\": 0,\n        \"max\": 2,\n        \"num_unique_values\": 3,\n        \"samples\": [\n          0,\n          1\n        ],\n        \"semantic_type\": \"\",\n        \"description\": \"\"\n      }\n    },\n    {\n      \"column\": \"thalach\",\n      \"properties\": {\n        \"dtype\": \"number\",\n        \"std\": 22,\n        \"min\": 71,\n        \"max\": 202,\n        \"num_unique_values\": 91,\n        \"samples\": [\n          159,\n          152\n        ],\n        \"semantic_type\": \"\",\n        \"description\": \"\"\n      }\n    },\n    {\n      \"column\": \"exang\",\n      \"properties\": {\n        \"dtype\": \"number\",\n        \"std\": 0,\n        \"min\": 0,\n        \"max\": 1,\n        \"num_unique_values\": 2,\n        \"samples\": [\n          1,\n          0\n        ],\n        \"semantic_type\": \"\",\n        \"description\": \"\"\n      }\n    },\n    {\n      \"column\": \"oldpeak\",\n      \"properties\": {\n        \"dtype\": \"number\",\n        \"std\": 1.1610750220686348,\n        \"min\": 0.0,\n        \"max\": 6.2,\n        \"num_unique_values\": 40,\n        \"samples\": [\n          1.9,\n          3.0\n        ],\n        \"semantic_type\": \"\",\n        \"description\": \"\"\n      }\n    },\n    {\n      \"column\": \"slope\",\n      \"properties\": {\n        \"dtype\": \"number\",\n        \"std\": 0,\n        \"min\": 0,\n        \"max\": 2,\n        \"num_unique_values\": 3,\n        \"samples\": [\n          0,\n          2\n        ],\n        \"semantic_type\": \"\",\n        \"description\": \"\"\n      }\n    },\n    {\n      \"column\": \"ca\",\n      \"properties\": {\n        \"dtype\": \"number\",\n        \"std\": 1,\n        \"min\": 0,\n        \"max\": 4,\n        \"num_unique_values\": 5,\n        \"samples\": [\n          2,\n          4\n        ],\n        \"semantic_type\": \"\",\n        \"description\": \"\"\n      }\n    },\n    {\n      \"column\": \"thal\",\n      \"properties\": {\n        \"dtype\": \"number\",\n        \"std\": 0,\n        \"min\": 0,\n        \"max\": 3,\n        \"num_unique_values\": 4,\n        \"samples\": [\n          2,\n          0\n        ],\n        \"semantic_type\": \"\",\n        \"description\": \"\"\n      }\n    },\n    {\n      \"column\": \"target\",\n      \"properties\": {\n        \"dtype\": \"number\",\n        \"std\": 0,\n        \"min\": 0,\n        \"max\": 1,\n        \"num_unique_values\": 2,\n        \"samples\": [\n          0,\n          1\n        ],\n        \"semantic_type\": \"\",\n        \"description\": \"\"\n      }\n    }\n  ]\n}"
            }
          },
          "metadata": {}
        }
      ]
    },
    {
      "cell_type": "code",
      "source": [
        "df.info()"
      ],
      "metadata": {
        "execution": {
          "iopub.status.busy": "2024-05-28T07:32:05.381529Z",
          "iopub.execute_input": "2024-05-28T07:32:05.381926Z",
          "iopub.status.idle": "2024-05-28T07:32:05.395009Z",
          "shell.execute_reply.started": "2024-05-28T07:32:05.381895Z",
          "shell.execute_reply": "2024-05-28T07:32:05.393435Z"
        },
        "trusted": true,
        "colab": {
          "base_uri": "https://localhost:8080/"
        },
        "id": "I_DZZHI8NCbX",
        "outputId": "5491373b-896d-4c39-cf32-d9743531b75f"
      },
      "execution_count": null,
      "outputs": [
        {
          "output_type": "stream",
          "name": "stdout",
          "text": [
            "<class 'pandas.core.frame.DataFrame'>\n",
            "RangeIndex: 303 entries, 0 to 302\n",
            "Data columns (total 14 columns):\n",
            " #   Column    Non-Null Count  Dtype  \n",
            "---  ------    --------------  -----  \n",
            " 0   age       303 non-null    int64  \n",
            " 1   sex       303 non-null    int64  \n",
            " 2   cp        303 non-null    int64  \n",
            " 3   trestbps  303 non-null    int64  \n",
            " 4   chol      303 non-null    int64  \n",
            " 5   fbs       303 non-null    int64  \n",
            " 6   restecg   303 non-null    int64  \n",
            " 7   thalach   303 non-null    int64  \n",
            " 8   exang     303 non-null    int64  \n",
            " 9   oldpeak   303 non-null    float64\n",
            " 10  slope     303 non-null    int64  \n",
            " 11  ca        303 non-null    int64  \n",
            " 12  thal      303 non-null    int64  \n",
            " 13  target    303 non-null    int64  \n",
            "dtypes: float64(1), int64(13)\n",
            "memory usage: 33.3 KB\n"
          ]
        }
      ]
    },
    {
      "cell_type": "code",
      "source": [
        "y=df['target'].values\n",
        "X=df.drop(['target'],axis=1).values\n",
        "print(y[:5])\n",
        "print(X[:5])"
      ],
      "metadata": {
        "execution": {
          "iopub.status.busy": "2024-05-28T07:32:05.396593Z",
          "iopub.execute_input": "2024-05-28T07:32:05.397061Z",
          "iopub.status.idle": "2024-05-28T07:32:05.409496Z",
          "shell.execute_reply.started": "2024-05-28T07:32:05.397016Z",
          "shell.execute_reply": "2024-05-28T07:32:05.408340Z"
        },
        "trusted": true,
        "colab": {
          "base_uri": "https://localhost:8080/"
        },
        "id": "T-qIDBZrNCbX",
        "outputId": "5fa49f89-0137-4e38-fd76-83a3f4308cd9"
      },
      "execution_count": null,
      "outputs": [
        {
          "output_type": "stream",
          "name": "stdout",
          "text": [
            "[1 1 1 1 1]\n",
            "[[ 63.    1.    3.  145.  233.    1.    0.  150.    0.    2.3   0.    0.\n",
            "    1. ]\n",
            " [ 37.    1.    2.  130.  250.    0.    1.  187.    0.    3.5   0.    0.\n",
            "    2. ]\n",
            " [ 41.    0.    1.  130.  204.    0.    0.  172.    0.    1.4   2.    0.\n",
            "    2. ]\n",
            " [ 56.    1.    1.  120.  236.    0.    1.  178.    0.    0.8   2.    0.\n",
            "    2. ]\n",
            " [ 57.    0.    0.  120.  354.    0.    1.  163.    1.    0.6   2.    0.\n",
            "    2. ]]\n"
          ]
        }
      ]
    },
    {
      "cell_type": "code",
      "source": [
        "X_train,X_test,y_train,y_test=train_test_split(X,y,train_size=0.9)\n",
        "print(X_train.shape)\n",
        "print(X_test.shape)"
      ],
      "metadata": {
        "execution": {
          "iopub.status.busy": "2024-05-28T07:32:05.412393Z",
          "iopub.execute_input": "2024-05-28T07:32:05.412848Z",
          "iopub.status.idle": "2024-05-28T07:32:05.421532Z",
          "shell.execute_reply.started": "2024-05-28T07:32:05.412793Z",
          "shell.execute_reply": "2024-05-28T07:32:05.420593Z"
        },
        "trusted": true,
        "colab": {
          "base_uri": "https://localhost:8080/"
        },
        "id": "HyiwvN7nNCbX",
        "outputId": "79d87b0a-bedc-4694-d076-3d62663aebab"
      },
      "execution_count": null,
      "outputs": [
        {
          "output_type": "stream",
          "name": "stdout",
          "text": [
            "(272, 13)\n",
            "(31, 13)\n"
          ]
        }
      ]
    },
    {
      "cell_type": "markdown",
      "source": [
        "## **Training models**"
      ],
      "metadata": {
        "id": "VCjR44I_WN3L"
      }
    },
    {
      "cell_type": "code",
      "source": [
        "f1s=[]\n",
        "aucs=[]\n",
        "models=[]"
      ],
      "metadata": {
        "execution": {
          "iopub.status.busy": "2024-05-28T07:32:05.422801Z",
          "iopub.execute_input": "2024-05-28T07:32:05.423158Z",
          "iopub.status.idle": "2024-05-28T07:32:05.432268Z",
          "shell.execute_reply.started": "2024-05-28T07:32:05.423130Z",
          "shell.execute_reply": "2024-05-28T07:32:05.431270Z"
        },
        "trusted": true,
        "id": "hohX3Xo3NCbX"
      },
      "execution_count": null,
      "outputs": []
    },
    {
      "cell_type": "code",
      "source": [
        "model=LogisticRegression().fit(X_train,y_train)\n",
        "f1s.append(f1_score(y_test,model.predict(X_test)))\n",
        "aucs.append(roc_auc_score(y_test,model.predict(X_test)))\n",
        "models.append('Logistic Regression')"
      ],
      "metadata": {
        "execution": {
          "iopub.status.busy": "2024-05-28T07:32:05.433533Z",
          "iopub.execute_input": "2024-05-28T07:32:05.433858Z",
          "iopub.status.idle": "2024-05-28T07:32:05.469530Z",
          "shell.execute_reply.started": "2024-05-28T07:32:05.433807Z",
          "shell.execute_reply": "2024-05-28T07:32:05.468338Z"
        },
        "trusted": true,
        "id": "mCbxfe5NNCbY"
      },
      "execution_count": null,
      "outputs": []
    },
    {
      "cell_type": "code",
      "source": [
        "model=SVC().fit(X_train,y_train)\n",
        "f1s.append(f1_score(y_test,model.predict(X_test)))\n",
        "aucs.append(roc_auc_score(y_test,model.predict(X_test)))\n",
        "models.append('SVM')"
      ],
      "metadata": {
        "execution": {
          "iopub.status.busy": "2024-05-28T07:32:05.470752Z",
          "iopub.execute_input": "2024-05-28T07:32:05.471085Z",
          "iopub.status.idle": "2024-05-28T07:32:05.485799Z",
          "shell.execute_reply.started": "2024-05-28T07:32:05.471058Z",
          "shell.execute_reply": "2024-05-28T07:32:05.484913Z"
        },
        "trusted": true,
        "id": "9BGjW7UVNCbY"
      },
      "execution_count": null,
      "outputs": []
    },
    {
      "cell_type": "code",
      "source": [
        "model=KNeighborsClassifier().fit(X_train,y_train)\n",
        "f1s.append(f1_score(y_test,model.predict(X_test)))\n",
        "aucs.append(roc_auc_score(y_test,model.predict(X_test)))\n",
        "models.append('KNN')"
      ],
      "metadata": {
        "execution": {
          "iopub.status.busy": "2024-05-28T07:32:05.487417Z",
          "iopub.execute_input": "2024-05-28T07:32:05.487779Z",
          "iopub.status.idle": "2024-05-28T07:32:05.508104Z",
          "shell.execute_reply.started": "2024-05-28T07:32:05.487746Z",
          "shell.execute_reply": "2024-05-28T07:32:05.507256Z"
        },
        "trusted": true,
        "id": "il_GMsLRNCbY"
      },
      "execution_count": null,
      "outputs": []
    },
    {
      "cell_type": "code",
      "source": [
        "model=GradientBoostingClassifier().fit(X_train,y_train)\n",
        "f1s.append(f1_score(y_test,model.predict(X_test)))\n",
        "aucs.append(roc_auc_score(y_test,model.predict(X_test)))\n",
        "models.append('Gradient Boosting')"
      ],
      "metadata": {
        "execution": {
          "iopub.status.busy": "2024-05-28T07:32:05.511875Z",
          "iopub.execute_input": "2024-05-28T07:32:05.512325Z",
          "iopub.status.idle": "2024-05-28T07:32:05.644548Z",
          "shell.execute_reply.started": "2024-05-28T07:32:05.512297Z",
          "shell.execute_reply": "2024-05-28T07:32:05.643774Z"
        },
        "trusted": true,
        "id": "qc93iyGxNCbY"
      },
      "execution_count": null,
      "outputs": []
    },
    {
      "cell_type": "code",
      "source": [
        "metrics=np.array([f1s,aucs]).T\n",
        "summary=pd.DataFrame(index=models,data=metrics,columns=['F1','AUC'])\n",
        "display(summary)"
      ],
      "metadata": {
        "execution": {
          "iopub.status.busy": "2024-05-28T07:32:05.645741Z",
          "iopub.execute_input": "2024-05-28T07:32:05.646088Z",
          "iopub.status.idle": "2024-05-28T07:32:05.658126Z",
          "shell.execute_reply.started": "2024-05-28T07:32:05.646059Z",
          "shell.execute_reply": "2024-05-28T07:32:05.657039Z"
        },
        "trusted": true,
        "colab": {
          "base_uri": "https://localhost:8080/",
          "height": 175
        },
        "id": "blGmHtaxNCbY",
        "outputId": "7505f72e-50a1-4335-9165-e80219b682fa"
      },
      "execution_count": null,
      "outputs": [
        {
          "output_type": "display_data",
          "data": {
            "text/plain": [
              "                           F1       AUC\n",
              "Logistic Regression  0.967742  0.968750\n",
              "SVM                  0.742857  0.706250\n",
              "KNN                  0.787879  0.772917\n",
              "Gradient Boosting    0.933333  0.937500"
            ],
            "text/html": [
              "\n",
              "  <div id=\"df-f21197b0-e4bc-4747-a3ff-e84db3b282bb\" class=\"colab-df-container\">\n",
              "    <div>\n",
              "<style scoped>\n",
              "    .dataframe tbody tr th:only-of-type {\n",
              "        vertical-align: middle;\n",
              "    }\n",
              "\n",
              "    .dataframe tbody tr th {\n",
              "        vertical-align: top;\n",
              "    }\n",
              "\n",
              "    .dataframe thead th {\n",
              "        text-align: right;\n",
              "    }\n",
              "</style>\n",
              "<table border=\"1\" class=\"dataframe\">\n",
              "  <thead>\n",
              "    <tr style=\"text-align: right;\">\n",
              "      <th></th>\n",
              "      <th>F1</th>\n",
              "      <th>AUC</th>\n",
              "    </tr>\n",
              "  </thead>\n",
              "  <tbody>\n",
              "    <tr>\n",
              "      <th>Logistic Regression</th>\n",
              "      <td>0.967742</td>\n",
              "      <td>0.968750</td>\n",
              "    </tr>\n",
              "    <tr>\n",
              "      <th>SVM</th>\n",
              "      <td>0.742857</td>\n",
              "      <td>0.706250</td>\n",
              "    </tr>\n",
              "    <tr>\n",
              "      <th>KNN</th>\n",
              "      <td>0.787879</td>\n",
              "      <td>0.772917</td>\n",
              "    </tr>\n",
              "    <tr>\n",
              "      <th>Gradient Boosting</th>\n",
              "      <td>0.933333</td>\n",
              "      <td>0.937500</td>\n",
              "    </tr>\n",
              "  </tbody>\n",
              "</table>\n",
              "</div>\n",
              "    <div class=\"colab-df-buttons\">\n",
              "\n",
              "  <div class=\"colab-df-container\">\n",
              "    <button class=\"colab-df-convert\" onclick=\"convertToInteractive('df-f21197b0-e4bc-4747-a3ff-e84db3b282bb')\"\n",
              "            title=\"Convert this dataframe to an interactive table.\"\n",
              "            style=\"display:none;\">\n",
              "\n",
              "  <svg xmlns=\"http://www.w3.org/2000/svg\" height=\"24px\" viewBox=\"0 -960 960 960\">\n",
              "    <path d=\"M120-120v-720h720v720H120Zm60-500h600v-160H180v160Zm220 220h160v-160H400v160Zm0 220h160v-160H400v160ZM180-400h160v-160H180v160Zm440 0h160v-160H620v160ZM180-180h160v-160H180v160Zm440 0h160v-160H620v160Z\"/>\n",
              "  </svg>\n",
              "    </button>\n",
              "\n",
              "  <style>\n",
              "    .colab-df-container {\n",
              "      display:flex;\n",
              "      gap: 12px;\n",
              "    }\n",
              "\n",
              "    .colab-df-convert {\n",
              "      background-color: #E8F0FE;\n",
              "      border: none;\n",
              "      border-radius: 50%;\n",
              "      cursor: pointer;\n",
              "      display: none;\n",
              "      fill: #1967D2;\n",
              "      height: 32px;\n",
              "      padding: 0 0 0 0;\n",
              "      width: 32px;\n",
              "    }\n",
              "\n",
              "    .colab-df-convert:hover {\n",
              "      background-color: #E2EBFA;\n",
              "      box-shadow: 0px 1px 2px rgba(60, 64, 67, 0.3), 0px 1px 3px 1px rgba(60, 64, 67, 0.15);\n",
              "      fill: #174EA6;\n",
              "    }\n",
              "\n",
              "    .colab-df-buttons div {\n",
              "      margin-bottom: 4px;\n",
              "    }\n",
              "\n",
              "    [theme=dark] .colab-df-convert {\n",
              "      background-color: #3B4455;\n",
              "      fill: #D2E3FC;\n",
              "    }\n",
              "\n",
              "    [theme=dark] .colab-df-convert:hover {\n",
              "      background-color: #434B5C;\n",
              "      box-shadow: 0px 1px 3px 1px rgba(0, 0, 0, 0.15);\n",
              "      filter: drop-shadow(0px 1px 2px rgba(0, 0, 0, 0.3));\n",
              "      fill: #FFFFFF;\n",
              "    }\n",
              "  </style>\n",
              "\n",
              "    <script>\n",
              "      const buttonEl =\n",
              "        document.querySelector('#df-f21197b0-e4bc-4747-a3ff-e84db3b282bb button.colab-df-convert');\n",
              "      buttonEl.style.display =\n",
              "        google.colab.kernel.accessAllowed ? 'block' : 'none';\n",
              "\n",
              "      async function convertToInteractive(key) {\n",
              "        const element = document.querySelector('#df-f21197b0-e4bc-4747-a3ff-e84db3b282bb');\n",
              "        const dataTable =\n",
              "          await google.colab.kernel.invokeFunction('convertToInteractive',\n",
              "                                                    [key], {});\n",
              "        if (!dataTable) return;\n",
              "\n",
              "        const docLinkHtml = 'Like what you see? Visit the ' +\n",
              "          '<a target=\"_blank\" href=https://colab.research.google.com/notebooks/data_table.ipynb>data table notebook</a>'\n",
              "          + ' to learn more about interactive tables.';\n",
              "        element.innerHTML = '';\n",
              "        dataTable['output_type'] = 'display_data';\n",
              "        await google.colab.output.renderOutput(dataTable, element);\n",
              "        const docLink = document.createElement('div');\n",
              "        docLink.innerHTML = docLinkHtml;\n",
              "        element.appendChild(docLink);\n",
              "      }\n",
              "    </script>\n",
              "  </div>\n",
              "\n",
              "\n",
              "<div id=\"df-e88e814e-075a-48cb-a98c-ca7bdbd2511e\">\n",
              "  <button class=\"colab-df-quickchart\" onclick=\"quickchart('df-e88e814e-075a-48cb-a98c-ca7bdbd2511e')\"\n",
              "            title=\"Suggest charts\"\n",
              "            style=\"display:none;\">\n",
              "\n",
              "<svg xmlns=\"http://www.w3.org/2000/svg\" height=\"24px\"viewBox=\"0 0 24 24\"\n",
              "     width=\"24px\">\n",
              "    <g>\n",
              "        <path d=\"M19 3H5c-1.1 0-2 .9-2 2v14c0 1.1.9 2 2 2h14c1.1 0 2-.9 2-2V5c0-1.1-.9-2-2-2zM9 17H7v-7h2v7zm4 0h-2V7h2v10zm4 0h-2v-4h2v4z\"/>\n",
              "    </g>\n",
              "</svg>\n",
              "  </button>\n",
              "\n",
              "<style>\n",
              "  .colab-df-quickchart {\n",
              "      --bg-color: #E8F0FE;\n",
              "      --fill-color: #1967D2;\n",
              "      --hover-bg-color: #E2EBFA;\n",
              "      --hover-fill-color: #174EA6;\n",
              "      --disabled-fill-color: #AAA;\n",
              "      --disabled-bg-color: #DDD;\n",
              "  }\n",
              "\n",
              "  [theme=dark] .colab-df-quickchart {\n",
              "      --bg-color: #3B4455;\n",
              "      --fill-color: #D2E3FC;\n",
              "      --hover-bg-color: #434B5C;\n",
              "      --hover-fill-color: #FFFFFF;\n",
              "      --disabled-bg-color: #3B4455;\n",
              "      --disabled-fill-color: #666;\n",
              "  }\n",
              "\n",
              "  .colab-df-quickchart {\n",
              "    background-color: var(--bg-color);\n",
              "    border: none;\n",
              "    border-radius: 50%;\n",
              "    cursor: pointer;\n",
              "    display: none;\n",
              "    fill: var(--fill-color);\n",
              "    height: 32px;\n",
              "    padding: 0;\n",
              "    width: 32px;\n",
              "  }\n",
              "\n",
              "  .colab-df-quickchart:hover {\n",
              "    background-color: var(--hover-bg-color);\n",
              "    box-shadow: 0 1px 2px rgba(60, 64, 67, 0.3), 0 1px 3px 1px rgba(60, 64, 67, 0.15);\n",
              "    fill: var(--button-hover-fill-color);\n",
              "  }\n",
              "\n",
              "  .colab-df-quickchart-complete:disabled,\n",
              "  .colab-df-quickchart-complete:disabled:hover {\n",
              "    background-color: var(--disabled-bg-color);\n",
              "    fill: var(--disabled-fill-color);\n",
              "    box-shadow: none;\n",
              "  }\n",
              "\n",
              "  .colab-df-spinner {\n",
              "    border: 2px solid var(--fill-color);\n",
              "    border-color: transparent;\n",
              "    border-bottom-color: var(--fill-color);\n",
              "    animation:\n",
              "      spin 1s steps(1) infinite;\n",
              "  }\n",
              "\n",
              "  @keyframes spin {\n",
              "    0% {\n",
              "      border-color: transparent;\n",
              "      border-bottom-color: var(--fill-color);\n",
              "      border-left-color: var(--fill-color);\n",
              "    }\n",
              "    20% {\n",
              "      border-color: transparent;\n",
              "      border-left-color: var(--fill-color);\n",
              "      border-top-color: var(--fill-color);\n",
              "    }\n",
              "    30% {\n",
              "      border-color: transparent;\n",
              "      border-left-color: var(--fill-color);\n",
              "      border-top-color: var(--fill-color);\n",
              "      border-right-color: var(--fill-color);\n",
              "    }\n",
              "    40% {\n",
              "      border-color: transparent;\n",
              "      border-right-color: var(--fill-color);\n",
              "      border-top-color: var(--fill-color);\n",
              "    }\n",
              "    60% {\n",
              "      border-color: transparent;\n",
              "      border-right-color: var(--fill-color);\n",
              "    }\n",
              "    80% {\n",
              "      border-color: transparent;\n",
              "      border-right-color: var(--fill-color);\n",
              "      border-bottom-color: var(--fill-color);\n",
              "    }\n",
              "    90% {\n",
              "      border-color: transparent;\n",
              "      border-bottom-color: var(--fill-color);\n",
              "    }\n",
              "  }\n",
              "</style>\n",
              "\n",
              "  <script>\n",
              "    async function quickchart(key) {\n",
              "      const quickchartButtonEl =\n",
              "        document.querySelector('#' + key + ' button');\n",
              "      quickchartButtonEl.disabled = true;  // To prevent multiple clicks.\n",
              "      quickchartButtonEl.classList.add('colab-df-spinner');\n",
              "      try {\n",
              "        const charts = await google.colab.kernel.invokeFunction(\n",
              "            'suggestCharts', [key], {});\n",
              "      } catch (error) {\n",
              "        console.error('Error during call to suggestCharts:', error);\n",
              "      }\n",
              "      quickchartButtonEl.classList.remove('colab-df-spinner');\n",
              "      quickchartButtonEl.classList.add('colab-df-quickchart-complete');\n",
              "    }\n",
              "    (() => {\n",
              "      let quickchartButtonEl =\n",
              "        document.querySelector('#df-e88e814e-075a-48cb-a98c-ca7bdbd2511e button');\n",
              "      quickchartButtonEl.style.display =\n",
              "        google.colab.kernel.accessAllowed ? 'block' : 'none';\n",
              "    })();\n",
              "  </script>\n",
              "</div>\n",
              "    </div>\n",
              "  </div>\n"
            ],
            "application/vnd.google.colaboratory.intrinsic+json": {
              "type": "dataframe",
              "variable_name": "summary",
              "summary": "{\n  \"name\": \"summary\",\n  \"rows\": 4,\n  \"fields\": [\n    {\n      \"column\": \"F1\",\n      \"properties\": {\n        \"dtype\": \"number\",\n        \"std\": 0.10938198593891567,\n        \"min\": 0.742857142857143,\n        \"max\": 0.967741935483871,\n        \"num_unique_values\": 4,\n        \"samples\": [\n          0.742857142857143,\n          0.9333333333333333,\n          0.967741935483871\n        ],\n        \"semantic_type\": \"\",\n        \"description\": \"\"\n      }\n    },\n    {\n      \"column\": \"AUC\",\n      \"properties\": {\n        \"dtype\": \"number\",\n        \"std\": 0.1268996281515435,\n        \"min\": 0.7062499999999999,\n        \"max\": 0.96875,\n        \"num_unique_values\": 4,\n        \"samples\": [\n          0.7062499999999999,\n          0.9375,\n          0.96875\n        ],\n        \"semantic_type\": \"\",\n        \"description\": \"\"\n      }\n    }\n  ]\n}"
            }
          },
          "metadata": {}
        }
      ]
    },
    {
      "cell_type": "markdown",
      "source": [
        "# **Computing local weights**"
      ],
      "metadata": {
        "id": "VdjYQ7BKNCbZ"
      }
    },
    {
      "cell_type": "markdown",
      "source": [
        "As two criterions f1-score and auc-score will be taken. In this case consistency matrix don't really have to be computed, and corresponding scores can be taken as non-normalized local weights of corresponding alternatives with corresponding criterion. Also another criterion, pretty much subjective, was chosen, which already requires building consistency matrix. To be more exact, as the third criterion was choosen possibility of flexible model's customization(like in svm we can choose different kernels, which dramatically will affect model's permormance, in gradient boosting we can set number of models into ensemble, max depth of trees, etc)."
      ],
      "metadata": {
        "id": "E5vZ8C8BNCbZ"
      }
    },
    {
      "cell_type": "markdown",
      "source": [
        "## **Building pairwise comparison matrix**"
      ],
      "metadata": {
        "id": "BnIQjBNdNCbZ"
      }
    },
    {
      "cell_type": "code",
      "source": [
        "D_settings=np.array([[1,1/5,1/2,1/7],\n",
        "                     [5,  1,  4,1/3],\n",
        "                     [2,1/4,  1,1/7],\n",
        "                     [7,  3,  7,  1]])"
      ],
      "metadata": {
        "execution": {
          "iopub.status.busy": "2024-05-28T07:32:05.659388Z",
          "iopub.execute_input": "2024-05-28T07:32:05.659687Z",
          "iopub.status.idle": "2024-05-28T07:32:05.667473Z",
          "shell.execute_reply.started": "2024-05-28T07:32:05.659662Z",
          "shell.execute_reply": "2024-05-28T07:32:05.666575Z"
        },
        "trusted": true,
        "id": "liPrPE9ONCbZ"
      },
      "execution_count": null,
      "outputs": []
    },
    {
      "cell_type": "markdown",
      "source": [
        "## **Using power method for computation largest eigenvalue with corresponding eigenvector**"
      ],
      "metadata": {
        "id": "zelfWJoJbPNk"
      }
    },
    {
      "cell_type": "code",
      "source": [
        "eps=1e-3\n",
        "lmbd_=0\n",
        "x=np.array([[1,0,0,0]]).T\n",
        "Dx=D_settings.dot(x)\n",
        "lmbd=np.sum(np.fabs(Dx))\n",
        "print('Iteration 1:')\n",
        "print(f'eigvalue={lmbd}')\n",
        "print(f'eigvector={Dx}')\n",
        "i=2\n",
        "print('\\n')\n",
        "while(np.fabs(lmbd-lmbd_)>eps):\n",
        "    lmbd_=lmbd\n",
        "    x=Dx/lmbd\n",
        "    Dx=D_settings.dot(x)\n",
        "    lmbd=Dx[0]/x[0]\n",
        "    print(f'Iteration {i}:')\n",
        "    print(f'eigvalue={lmbd}')\n",
        "    print(f'eigvector={Dx}')\n",
        "    i+=1\n",
        "    print('\\n')"
      ],
      "metadata": {
        "execution": {
          "iopub.status.busy": "2024-05-28T07:32:05.668843Z",
          "iopub.execute_input": "2024-05-28T07:32:05.669475Z",
          "iopub.status.idle": "2024-05-28T07:32:05.682956Z",
          "shell.execute_reply.started": "2024-05-28T07:32:05.669447Z",
          "shell.execute_reply": "2024-05-28T07:32:05.681895Z"
        },
        "trusted": true,
        "colab": {
          "base_uri": "https://localhost:8080/"
        },
        "id": "UsplTxNjNCbZ",
        "outputId": "25d9eae9-0cf8-44cd-932b-9a2dcb3cea02"
      },
      "execution_count": null,
      "outputs": [
        {
          "output_type": "stream",
          "name": "stdout",
          "text": [
            "Iteration 1:\n",
            "eigvalue=15.0\n",
            "eigvector=[[1.]\n",
            " [5.]\n",
            " [2.]\n",
            " [7.]]\n",
            "\n",
            "\n",
            "Iteration 2:\n",
            "eigvalue=[4.]\n",
            "eigvector=[[0.26666667]\n",
            " [1.35555556]\n",
            " [0.41666667]\n",
            " [2.86666667]]\n",
            "\n",
            "\n",
            "Iteration 3:\n",
            "eigvalue=[4.33363095]\n",
            "eigvector=[[0.28890873]\n",
            " [1.32777778]\n",
            " [0.42460317]\n",
            " [2.92916667]]\n",
            "\n",
            "\n",
            "Iteration 4:\n",
            "eigvalue=[4.10239681]\n",
            "eigvector=[[0.27349312]\n",
            " [1.25694206]\n",
            " [0.40446856]\n",
            " [2.74759975]]\n",
            "\n",
            "\n",
            "Iteration 5:\n",
            "eigvalue=[4.09381435]\n",
            "eigvector=[[0.27292096]\n",
            " [1.25734996]\n",
            " [0.40420384]\n",
            " [2.7457504 ]]\n",
            "\n",
            "\n",
            "Iteration 6:\n",
            "eigvalue=[4.0991463]\n",
            "eigvector=[[0.27327642]\n",
            " [1.25897753]\n",
            " [0.40466742]\n",
            " [2.74992292]]\n",
            "\n",
            "\n",
            "Iteration 7:\n",
            "eigvalue=[4.09933564]\n",
            "eigvector=[[0.27328904]\n",
            " [1.25896221]\n",
            " [0.40467226]\n",
            " [2.74995367]]\n",
            "\n",
            "\n"
          ]
        }
      ]
    },
    {
      "cell_type": "markdown",
      "source": [
        "## **Recieving non-normalized vector of weights and largest eigenvalue**"
      ],
      "metadata": {
        "id": "xWlkmBlmXNmU"
      }
    },
    {
      "cell_type": "code",
      "source": [
        "eig_val=lmbd[0]\n",
        "print(eig_val)\n",
        "eig_vector=Dx\n",
        "print(eig_vector)"
      ],
      "metadata": {
        "execution": {
          "iopub.status.busy": "2024-05-28T07:32:05.684200Z",
          "iopub.execute_input": "2024-05-28T07:32:05.684593Z",
          "iopub.status.idle": "2024-05-28T07:32:05.697615Z",
          "shell.execute_reply.started": "2024-05-28T07:32:05.684553Z",
          "shell.execute_reply": "2024-05-28T07:32:05.696477Z"
        },
        "trusted": true,
        "colab": {
          "base_uri": "https://localhost:8080/"
        },
        "id": "AqzztsZENCba",
        "outputId": "5d645cd8-57c8-4591-ddde-23ea3f066c76"
      },
      "execution_count": null,
      "outputs": [
        {
          "output_type": "stream",
          "name": "stdout",
          "text": [
            "4.099335642044864\n",
            "[[0.27328904]\n",
            " [1.25896221]\n",
            " [0.40467226]\n",
            " [2.74995367]]\n"
          ]
        }
      ]
    },
    {
      "cell_type": "markdown",
      "source": [
        "## **Checking pairwise comparison matrix on consistency using CR**"
      ],
      "metadata": {
        "id": "biHcCAyTXYDM"
      }
    },
    {
      "cell_type": "code",
      "source": [
        "ci=(eig_val-4)/(4-1)\n",
        "mrci=0.89\n",
        "cr=ci/mrci\n",
        "print(f'cr={cr}')\n",
        "threshold=0.08\n",
        "if cr<threshold:\n",
        "    print('Consistent')\n",
        "else:\n",
        "    print('Non-Consistent')"
      ],
      "metadata": {
        "execution": {
          "iopub.status.busy": "2024-05-28T07:32:05.698733Z",
          "iopub.execute_input": "2024-05-28T07:32:05.699122Z",
          "iopub.status.idle": "2024-05-28T07:32:05.708732Z",
          "shell.execute_reply.started": "2024-05-28T07:32:05.699093Z",
          "shell.execute_reply": "2024-05-28T07:32:05.707639Z"
        },
        "trusted": true,
        "colab": {
          "base_uri": "https://localhost:8080/"
        },
        "id": "Fd0ODaCHNCba",
        "outputId": "8fabb7a2-c49d-49db-c100-eb8739f5755b"
      },
      "execution_count": null,
      "outputs": [
        {
          "output_type": "stream",
          "name": "stdout",
          "text": [
            "cr=0.03720436031642859\n",
            "Consistent\n"
          ]
        }
      ]
    },
    {
      "cell_type": "markdown",
      "source": [
        "As it can be seen, CR less than threshold value 0.08, so our matrix is acceptably non-consistent."
      ],
      "metadata": {
        "id": "EPtBKlL0u_xJ"
      }
    },
    {
      "cell_type": "markdown",
      "source": [
        "# **Computing global weights**"
      ],
      "metadata": {
        "id": "Edys69H7NxV7"
      }
    },
    {
      "cell_type": "markdown",
      "source": [
        "## **Defining weights for different criterions**"
      ],
      "metadata": {
        "id": "z1r-85OwXi_h"
      }
    },
    {
      "cell_type": "code",
      "source": [
        "weights_criterion=[0.45,0.4,0.15]"
      ],
      "metadata": {
        "execution": {
          "iopub.status.busy": "2024-05-28T07:32:05.709773Z",
          "iopub.execute_input": "2024-05-28T07:32:05.710101Z",
          "iopub.status.idle": "2024-05-28T07:32:05.719877Z",
          "shell.execute_reply.started": "2024-05-28T07:32:05.710077Z",
          "shell.execute_reply": "2024-05-28T07:32:05.718957Z"
        },
        "trusted": true,
        "id": "lM57JjylNCba"
      },
      "execution_count": null,
      "outputs": []
    },
    {
      "cell_type": "markdown",
      "source": [
        "## **Building matrix of non-normalized weights for different criterions**"
      ],
      "metadata": {
        "id": "JRn4aN8cX3eH"
      }
    },
    {
      "cell_type": "code",
      "source": [
        "weights_alternative=np.array([f1s,aucs,Dx.T[0]]).T\n",
        "print(weights_alternative)"
      ],
      "metadata": {
        "execution": {
          "iopub.status.busy": "2024-05-28T07:32:05.721141Z",
          "iopub.execute_input": "2024-05-28T07:32:05.721465Z",
          "iopub.status.idle": "2024-05-28T07:32:05.731756Z",
          "shell.execute_reply.started": "2024-05-28T07:32:05.721439Z",
          "shell.execute_reply": "2024-05-28T07:32:05.730544Z"
        },
        "trusted": true,
        "colab": {
          "base_uri": "https://localhost:8080/"
        },
        "id": "TgH56enQNCba",
        "outputId": "609cc256-f9a2-4891-c896-61d8dace5c34"
      },
      "execution_count": null,
      "outputs": [
        {
          "output_type": "stream",
          "name": "stdout",
          "text": [
            "[[0.96774194 0.96875    0.27328904]\n",
            " [0.74285714 0.70625    1.25896221]\n",
            " [0.78787879 0.77291667 0.40467226]\n",
            " [0.93333333 0.9375     2.74995367]]\n"
          ]
        }
      ]
    },
    {
      "cell_type": "markdown",
      "source": [
        "## **Computing non-normalized global weights**"
      ],
      "metadata": {
        "id": "nshQCaoMYS2r"
      }
    },
    {
      "cell_type": "code",
      "source": [
        "weights_glob=[]\n",
        "for i in range(4):\n",
        "    wi_glob=0\n",
        "    for j in range(3):\n",
        "        rij=weights_alternative[i,j]/max(weights_alternative[:,j])\n",
        "        wi_glob+=weights_criterion[j]*rij\n",
        "    weights_glob.append(wi_glob)\n",
        "print(weights_glob)"
      ],
      "metadata": {
        "execution": {
          "iopub.status.busy": "2024-05-28T07:32:05.733183Z",
          "iopub.execute_input": "2024-05-28T07:32:05.733563Z",
          "iopub.status.idle": "2024-05-28T07:32:05.742787Z",
          "shell.execute_reply.started": "2024-05-28T07:32:05.733530Z",
          "shell.execute_reply": "2024-05-28T07:32:05.741819Z"
        },
        "trusted": true,
        "colab": {
          "base_uri": "https://localhost:8080/"
        },
        "id": "fO6YfzxLNCba",
        "outputId": "39a7b2e1-0a90-4000-afd2-94af48bc9c20"
      },
      "execution_count": null,
      "outputs": [
        {
          "output_type": "stream",
          "name": "stdout",
          "text": [
            "[0.8649069262095146, 0.705713297758537, 0.7075768252892635, 0.9710967741935485]\n"
          ]
        }
      ]
    }
  ]
}