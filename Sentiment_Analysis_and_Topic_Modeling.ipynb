{
  "metadata": {
    "kernelspec": {
      "language": "python",
      "display_name": "Python 3",
      "name": "python3"
    },
    "language_info": {
      "name": "python",
      "version": "3.10.13",
      "mimetype": "text/x-python",
      "codemirror_mode": {
        "name": "ipython",
        "version": 3
      },
      "pygments_lexer": "ipython3",
      "nbconvert_exporter": "python",
      "file_extension": ".py"
    },
    "kaggle": {
      "accelerator": "gpu",
      "dataSources": [
        {
          "sourceId": 3205803,
          "sourceType": "datasetVersion",
          "datasetId": 1918992
        },
        {
          "sourceId": 8099068,
          "sourceType": "datasetVersion",
          "datasetId": 4782551
        }
      ],
      "dockerImageVersionId": 30698,
      "isInternetEnabled": true,
      "language": "python",
      "sourceType": "notebook",
      "isGpuEnabled": true
    },
    "colab": {
      "provenance": []
    }
  },
  "nbformat_minor": 0,
  "nbformat": 4,
  "cells": [
    {
      "cell_type": "markdown",
      "source": [
        "# **Importing all necessary libraries**"
      ],
      "metadata": {
        "id": "azm8uLcGg6OX"
      }
    },
    {
      "cell_type": "code",
      "source": [
        "import warnings\n",
        "warnings.simplefilter('ignore')\n",
        "import numpy as np\n",
        "import pandas as pd\n",
        "import matplotlib.pyplot as plt\n",
        "import seaborn as sns\n",
        "from sklearn.linear_model import LogisticRegression\n",
        "from sklearn.model_selection import train_test_split,GridSearchCV\n",
        "from sklearn.feature_extraction.text import TfidfVectorizer,CountVectorizer,HashingVectorizer\n",
        "from sklearn.decomposition import LatentDirichletAllocation\n",
        "from sklearn.metrics import accuracy_score,confusion_matrix\n",
        "from sklearn.pipeline import make_pipeline\n",
        "import re\n",
        "import nltk"
      ],
      "metadata": {
        "_uuid": "8f2839f25d086af736a60e9eeb907d3b93b6e0e5",
        "_cell_guid": "b1076dfc-b9ad-4769-8c92-a6c4dae69d19",
        "execution": {
          "iopub.status.busy": "2024-05-12T12:55:25.953127Z",
          "iopub.execute_input": "2024-05-12T12:55:25.953478Z",
          "iopub.status.idle": "2024-05-12T12:55:27.571304Z",
          "shell.execute_reply.started": "2024-05-12T12:55:25.953451Z",
          "shell.execute_reply": "2024-05-12T12:55:27.570503Z"
        },
        "trusted": true,
        "id": "sWmADwTdg6OZ"
      },
      "execution_count": null,
      "outputs": []
    },
    {
      "cell_type": "markdown",
      "source": [
        "# **Defining all necessary functions**"
      ],
      "metadata": {
        "id": "2JRZAY89g6Oa"
      }
    },
    {
      "cell_type": "code",
      "source": [
        "def clean_texts_1(texts,symbols_to_remove='123456790!@#$%^&*()`[]{};:?/.><,-_=+*~\\n\\t'):\n",
        "    texts=[text.lower().strip().rstrip() for text in texts]\n",
        "    for s in symbols_to_remove:\n",
        "        texts=[text.replace(s,'') for text in texts]\n",
        "    return texts"
      ],
      "metadata": {
        "execution": {
          "iopub.status.busy": "2024-05-12T12:55:27.573183Z",
          "iopub.execute_input": "2024-05-12T12:55:27.573850Z",
          "iopub.status.idle": "2024-05-12T12:55:27.579492Z",
          "shell.execute_reply.started": "2024-05-12T12:55:27.573818Z",
          "shell.execute_reply": "2024-05-12T12:55:27.578524Z"
        },
        "trusted": true,
        "id": "8mQnZ8Y9g6Oa"
      },
      "execution_count": null,
      "outputs": []
    },
    {
      "cell_type": "code",
      "source": [
        "def clean_texts_2(texts,symbols_to_remove='123456790!@#$%^&*()`[]{};:?/.><,-_=+*~\\n\\t'):\n",
        "    texts=texts.apply(lambda x: x.lower())\n",
        "    texts=texts.apply(lambda x: x.strip())\n",
        "    texts=texts.apply(lambda x: x.rstrip())\n",
        "    texts=texts.apply(lambda x: nltk.word_tokenize(x))\n",
        "    texts=texts.apply(lambda x: [y.replace(\"n't\",'not') for y in x])\n",
        "    for s in symbols_to_remove:\n",
        "        texts=texts.apply(lambda x:[w.replace(s,'') for w in x])\n",
        "    texts=texts.apply(lambda x:[w for w in x if w in words])\n",
        "    texts=texts.apply(lambda x:[w for w in x if w!=''])\n",
        "    return texts"
      ],
      "metadata": {
        "execution": {
          "iopub.status.busy": "2024-05-12T12:55:27.580746Z",
          "iopub.execute_input": "2024-05-12T12:55:27.581131Z",
          "iopub.status.idle": "2024-05-12T12:55:27.590817Z",
          "shell.execute_reply.started": "2024-05-12T12:55:27.581101Z",
          "shell.execute_reply": "2024-05-12T12:55:27.589969Z"
        },
        "trusted": true,
        "id": "AWa4Aw8xg6Oa"
      },
      "execution_count": null,
      "outputs": []
    },
    {
      "cell_type": "markdown",
      "source": [
        "# **Processing text**"
      ],
      "metadata": {
        "id": "HrfmYp33g6Ob"
      }
    },
    {
      "cell_type": "code",
      "source": [
        "eng=['Who are you talking to right now?',\n",
        "     'Who is it you think you see? Do you know how much I make a year?',\n",
        "     'I mean, even if I told you, you wouldn\\'t believe it.',\n",
        "     'Do you know what would happen if I suddenly decided to stop going into work?',\n",
        "     'I am not in danger - I am the danger.']\n",
        "print(eng)\n",
        "ukr=['Білочка – це невелика тваринка, яку можна зустріти в лісах та парках.',\n",
        "     'Її руденьку шубку та пухнастий хвіст добре видно серед дерев і взимку, і влітку.',\n",
        "     'Вона прудка та швидка, легко перестрибує з дерева на дерево, керуючи хвостиком, мов кермом.',\n",
        "     'Мордочка маленька, як і сама тваринка, і витягнута.']\n",
        "print(ukr)"
      ],
      "metadata": {
        "execution": {
          "iopub.status.busy": "2024-05-12T12:55:27.592789Z",
          "iopub.execute_input": "2024-05-12T12:55:27.593054Z",
          "iopub.status.idle": "2024-05-12T12:55:27.602852Z",
          "shell.execute_reply.started": "2024-05-12T12:55:27.593032Z",
          "shell.execute_reply": "2024-05-12T12:55:27.601866Z"
        },
        "trusted": true,
        "id": "PxbjfDMxg6Ob",
        "outputId": "96977d3f-942a-4e3c-ec01-83d062d3f600"
      },
      "execution_count": null,
      "outputs": [
        {
          "name": "stdout",
          "text": "['Who are you talking to right now?', 'Who is it you think you see? Do you know how much I make a year?', \"I mean, even if I told you, you wouldn't believe it.\", 'Do you know what would happen if I suddenly decided to stop going into work?', 'I am not in danger - I am the danger.']\n['Білочка – це невелика тваринка, яку можна зустріти в лісах та парках.', 'Її руденьку шубку та пухнастий хвіст добре видно серед дерев і взимку, і влітку.', 'Вона прудка та швидка, легко перестрибує з дерева на дерево, керуючи хвостиком, мов кермом.', 'Мордочка маленька, як і сама тваринка, і витягнута.']\n",
          "output_type": "stream"
        }
      ]
    },
    {
      "cell_type": "markdown",
      "source": [
        "## **Cleaning text**"
      ],
      "metadata": {
        "id": "aMlhr4aOg6Ob"
      }
    },
    {
      "cell_type": "code",
      "source": [
        "eng=clean_texts_1(eng)\n",
        "ukr=clean_texts_1(ukr)\n",
        "print(eng,'\\n')\n",
        "print(ukr)"
      ],
      "metadata": {
        "execution": {
          "iopub.status.busy": "2024-05-12T12:55:27.603971Z",
          "iopub.execute_input": "2024-05-12T12:55:27.604557Z",
          "iopub.status.idle": "2024-05-12T12:55:27.614401Z",
          "shell.execute_reply.started": "2024-05-12T12:55:27.604525Z",
          "shell.execute_reply": "2024-05-12T12:55:27.613533Z"
        },
        "trusted": true,
        "id": "nZNcFNP_g6Ob",
        "outputId": "ea8f56aa-2f97-4745-b7a9-39bb540fdb2f"
      },
      "execution_count": null,
      "outputs": [
        {
          "name": "stdout",
          "text": "['who are you talking to right now', 'who is it you think you see do you know how much i make a year', \"i mean even if i told you you wouldn't believe it\", 'do you know what would happen if i suddenly decided to stop going into work', 'i am not in danger  i am the danger'] \n\n['білочка – це невелика тваринка яку можна зустріти в лісах та парках', 'її руденьку шубку та пухнастий хвіст добре видно серед дерев і взимку і влітку', 'вона прудка та швидка легко перестрибує з дерева на дерево керуючи хвостиком мов кермом', 'мордочка маленька як і сама тваринка і витягнута']\n",
          "output_type": "stream"
        }
      ]
    },
    {
      "cell_type": "markdown",
      "source": [
        "## **Vectorizing texts**"
      ],
      "metadata": {
        "id": "N8wqtpoCg6Oc"
      }
    },
    {
      "cell_type": "markdown",
      "source": [
        "### **CountVecorizer**"
      ],
      "metadata": {
        "id": "Fo9-jl_Pg6Oc"
      }
    },
    {
      "cell_type": "markdown",
      "source": [
        "#### **English**"
      ],
      "metadata": {
        "id": "9gF1WkI8g6Oc"
      }
    },
    {
      "cell_type": "code",
      "source": [
        "count=CountVectorizer(ngram_range=(1,1),stop_words=None,max_df=1.0)\n",
        "vectorized=count.fit_transform(eng)\n",
        "vectorized=vectorized.toarray()\n",
        "print(count.vocabulary_)\n",
        "print(vectorized)"
      ],
      "metadata": {
        "execution": {
          "iopub.status.busy": "2024-05-12T12:55:27.615333Z",
          "iopub.execute_input": "2024-05-12T12:55:27.615598Z",
          "iopub.status.idle": "2024-05-12T12:55:27.634182Z",
          "shell.execute_reply.started": "2024-05-12T12:55:27.615576Z",
          "shell.execute_reply": "2024-05-12T12:55:27.633244Z"
        },
        "trusted": true,
        "id": "eytNM-5vg6Oc",
        "outputId": "52045445-45a5-4514-d3ac-5a6cf245a5c5"
      },
      "execution_count": null,
      "outputs": [
        {
          "name": "stdout",
          "text": "{'who': 31, 'are': 1, 'you': 36, 'talking': 25, 'to': 28, 'right': 21, 'now': 20, 'is': 13, 'it': 14, 'think': 27, 'see': 22, 'do': 5, 'know': 15, 'how': 9, 'much': 18, 'make': 16, 'year': 35, 'mean': 17, 'even': 6, 'if': 10, 'told': 29, 'wouldn': 34, 'believe': 2, 'what': 30, 'would': 33, 'happen': 8, 'suddenly': 24, 'decided': 4, 'stop': 23, 'going': 7, 'into': 12, 'work': 32, 'am': 0, 'not': 19, 'in': 11, 'danger': 3, 'the': 26}\n[[0 1 0 0 0 0 0 0 0 0 0 0 0 0 0 0 0 0 0 0 1 1 0 0 0 1 0 0 1 0 0 1 0 0 0 0\n  1]\n [0 0 0 0 0 1 0 0 0 1 0 0 0 1 1 1 1 0 1 0 0 0 1 0 0 0 0 1 0 0 0 1 0 0 0 1\n  3]\n [0 0 1 0 0 0 1 0 0 0 1 0 0 0 1 0 0 1 0 0 0 0 0 0 0 0 0 0 0 1 0 0 0 0 1 0\n  2]\n [0 0 0 0 1 1 0 1 1 0 1 0 1 0 0 1 0 0 0 0 0 0 0 1 1 0 0 0 1 0 1 0 1 1 0 0\n  1]\n [2 0 0 2 0 0 0 0 0 0 0 1 0 0 0 0 0 0 0 1 0 0 0 0 0 0 1 0 0 0 0 0 0 0 0 0\n  0]]\n",
          "output_type": "stream"
        }
      ]
    },
    {
      "cell_type": "code",
      "source": [
        "count=CountVectorizer(ngram_range=(1,1),stop_words=None,max_df=0.5)\n",
        "vectorized=count.fit_transform(eng)\n",
        "vectorized=vectorized.toarray()\n",
        "print(count.vocabulary_)\n",
        "print(vectorized)"
      ],
      "metadata": {
        "execution": {
          "iopub.status.busy": "2024-05-12T12:55:27.635166Z",
          "iopub.execute_input": "2024-05-12T12:55:27.635520Z",
          "iopub.status.idle": "2024-05-12T12:55:27.642594Z",
          "shell.execute_reply.started": "2024-05-12T12:55:27.635497Z",
          "shell.execute_reply": "2024-05-12T12:55:27.641755Z"
        },
        "trusted": true,
        "id": "ug0LORG0g6Oc",
        "outputId": "903fb838-cc99-482b-a290-2ee1161bb1e7"
      },
      "execution_count": null,
      "outputs": [
        {
          "name": "stdout",
          "text": "{'who': 31, 'are': 1, 'talking': 25, 'to': 28, 'right': 21, 'now': 20, 'is': 13, 'it': 14, 'think': 27, 'see': 22, 'do': 5, 'know': 15, 'how': 9, 'much': 18, 'make': 16, 'year': 35, 'mean': 17, 'even': 6, 'if': 10, 'told': 29, 'wouldn': 34, 'believe': 2, 'what': 30, 'would': 33, 'happen': 8, 'suddenly': 24, 'decided': 4, 'stop': 23, 'going': 7, 'into': 12, 'work': 32, 'am': 0, 'not': 19, 'in': 11, 'danger': 3, 'the': 26}\n[[0 1 0 0 0 0 0 0 0 0 0 0 0 0 0 0 0 0 0 0 1 1 0 0 0 1 0 0 1 0 0 1 0 0 0 0]\n [0 0 0 0 0 1 0 0 0 1 0 0 0 1 1 1 1 0 1 0 0 0 1 0 0 0 0 1 0 0 0 1 0 0 0 1]\n [0 0 1 0 0 0 1 0 0 0 1 0 0 0 1 0 0 1 0 0 0 0 0 0 0 0 0 0 0 1 0 0 0 0 1 0]\n [0 0 0 0 1 1 0 1 1 0 1 0 1 0 0 1 0 0 0 0 0 0 0 1 1 0 0 0 1 0 1 0 1 1 0 0]\n [2 0 0 2 0 0 0 0 0 0 0 1 0 0 0 0 0 0 0 1 0 0 0 0 0 0 1 0 0 0 0 0 0 0 0 0]]\n",
          "output_type": "stream"
        }
      ]
    },
    {
      "cell_type": "code",
      "source": [
        "count=CountVectorizer(ngram_range=(1,1),stop_words='english',max_df=1.0)\n",
        "vectorized=count.fit_transform(eng)\n",
        "vectorized=vectorized.toarray()\n",
        "print(count.vocabulary_)\n",
        "print(vectorized)"
      ],
      "metadata": {
        "execution": {
          "iopub.status.busy": "2024-05-12T12:55:27.643591Z",
          "iopub.execute_input": "2024-05-12T12:55:27.643862Z",
          "iopub.status.idle": "2024-05-12T12:55:27.655201Z",
          "shell.execute_reply.started": "2024-05-12T12:55:27.643830Z",
          "shell.execute_reply": "2024-05-12T12:55:27.654308Z"
        },
        "trusted": true,
        "id": "aDZH5ac7g6Od",
        "outputId": "d67d4951-56b3-43fe-dfac-1ead01634bf6"
      },
      "execution_count": null,
      "outputs": [
        {
          "name": "stdout",
          "text": "{'talking': 11, 'right': 8, 'think': 12, 'know': 5, 'make': 6, 'year': 16, 'mean': 7, 'told': 13, 'wouldn': 15, 'believe': 0, 'happen': 4, 'suddenly': 10, 'decided': 2, 'stop': 9, 'going': 3, 'work': 14, 'danger': 1}\n[[0 0 0 0 0 0 0 0 1 0 0 1 0 0 0 0 0]\n [0 0 0 0 0 1 1 0 0 0 0 0 1 0 0 0 1]\n [1 0 0 0 0 0 0 1 0 0 0 0 0 1 0 1 0]\n [0 0 1 1 1 1 0 0 0 1 1 0 0 0 1 0 0]\n [0 2 0 0 0 0 0 0 0 0 0 0 0 0 0 0 0]]\n",
          "output_type": "stream"
        }
      ]
    },
    {
      "cell_type": "code",
      "source": [
        "count=CountVectorizer(ngram_range=(2,2),stop_words=None,max_df=1.0)\n",
        "vectorized=count.fit_transform(eng)\n",
        "vectorized=vectorized.toarray()\n",
        "print(count.vocabulary_)\n",
        "print(vectorized)"
      ],
      "metadata": {
        "execution": {
          "iopub.status.busy": "2024-05-12T12:55:27.656330Z",
          "iopub.execute_input": "2024-05-12T12:55:27.656657Z",
          "iopub.status.idle": "2024-05-12T12:55:27.666278Z",
          "shell.execute_reply.started": "2024-05-12T12:55:27.656631Z",
          "shell.execute_reply": "2024-05-12T12:55:27.665307Z"
        },
        "trusted": true,
        "id": "BehDsAEog6Od",
        "outputId": "3fcd0c55-37a2-4043-fb24-b3af383457c2"
      },
      "execution_count": null,
      "outputs": [
        {
          "name": "stdout",
          "text": "{'who are': 34, 'are you': 2, 'you talking': 40, 'talking to': 27, 'to right': 30, 'right now': 23, 'who is': 35, 'is it': 15, 'it you': 16, 'you think': 41, 'think you': 29, 'you see': 39, 'see do': 24, 'do you': 6, 'you know': 38, 'know how': 17, 'how much': 10, 'much make': 21, 'make year': 19, 'mean even': 20, 'even if': 7, 'if told': 12, 'told you': 32, 'you you': 43, 'you wouldn': 42, 'wouldn believe': 37, 'believe it': 3, 'know what': 18, 'what would': 33, 'would happen': 36, 'happen if': 9, 'if suddenly': 11, 'suddenly decided': 26, 'decided to': 5, 'to stop': 31, 'stop going': 25, 'going into': 8, 'into work': 14, 'am not': 0, 'not in': 22, 'in danger': 13, 'danger am': 4, 'am the': 1, 'the danger': 28}\n[[0 0 1 0 0 0 0 0 0 0 0 0 0 0 0 0 0 0 0 0 0 0 0 1 0 0 0 1 0 0 1 0 0 0 1 0\n  0 0 0 0 1 0 0 0]\n [0 0 0 0 0 0 1 0 0 0 1 0 0 0 0 1 1 1 0 1 0 1 0 0 1 0 0 0 0 1 0 0 0 0 0 1\n  0 0 1 1 0 1 0 0]\n [0 0 0 1 0 0 0 1 0 0 0 0 1 0 0 0 0 0 0 0 1 0 0 0 0 0 0 0 0 0 0 0 1 0 0 0\n  0 1 0 0 0 0 1 1]\n [0 0 0 0 0 1 1 0 1 1 0 1 0 0 1 0 0 0 1 0 0 0 0 0 0 1 1 0 0 0 0 1 0 1 0 0\n  1 0 1 0 0 0 0 0]\n [1 1 0 0 1 0 0 0 0 0 0 0 0 1 0 0 0 0 0 0 0 0 1 0 0 0 0 0 1 0 0 0 0 0 0 0\n  0 0 0 0 0 0 0 0]]\n",
          "output_type": "stream"
        }
      ]
    },
    {
      "cell_type": "markdown",
      "source": [
        "#### **Ukrainian**"
      ],
      "metadata": {
        "id": "fvdL5nJwg6Od"
      }
    },
    {
      "cell_type": "code",
      "source": [
        "count=CountVectorizer(ngram_range=(1,1),stop_words=None,max_df=1.0)\n",
        "vectorized=count.fit_transform(ukr)\n",
        "vectorized=vectorized.toarray()\n",
        "print(count.vocabulary_)\n",
        "print(vectorized)"
      ],
      "metadata": {
        "execution": {
          "iopub.status.busy": "2024-05-12T12:55:27.670987Z",
          "iopub.execute_input": "2024-05-12T12:55:27.671346Z",
          "iopub.status.idle": "2024-05-12T12:55:27.678226Z",
          "shell.execute_reply.started": "2024-05-12T12:55:27.671323Z",
          "shell.execute_reply": "2024-05-12T12:55:27.677282Z"
        },
        "trusted": true,
        "id": "BjKNnDdQg6Od",
        "outputId": "057c9cb4-850a-4205-e927-e8a876ef7e38"
      },
      "execution_count": null,
      "outputs": [
        {
          "name": "stdout",
          "text": "{'білочка': 0, 'це': 32, 'невелика': 20, 'тваринка': 29, 'яку': 36, 'можна': 17, 'зустріти': 10, 'лісах': 14, 'та': 28, 'парках': 21, 'її': 37, 'руденьку': 25, 'шубку': 34, 'пухнастий': 24, 'хвіст': 31, 'добре': 9, 'видно': 2, 'серед': 27, 'дерев': 6, 'взимку': 1, 'влітку': 4, 'вона': 5, 'прудка': 23, 'швидка': 33, 'легко': 13, 'перестрибує': 22, 'дерева': 7, 'на': 19, 'дерево': 8, 'керуючи': 12, 'хвостиком': 30, 'мов': 16, 'кермом': 11, 'мордочка': 18, 'маленька': 15, 'як': 35, 'сама': 26, 'витягнута': 3}\n[[1 0 0 0 0 0 0 0 0 0 1 0 0 0 1 0 0 1 0 0 1 1 0 0 0 0 0 0 1 1 0 0 1 0 0 0\n  1 0]\n [0 1 1 0 1 0 1 0 0 1 0 0 0 0 0 0 0 0 0 0 0 0 0 0 1 1 0 1 1 0 0 1 0 0 1 0\n  0 1]\n [0 0 0 0 0 1 0 1 1 0 0 1 1 1 0 0 1 0 0 1 0 0 1 1 0 0 0 0 1 0 1 0 0 1 0 0\n  0 0]\n [0 0 0 1 0 0 0 0 0 0 0 0 0 0 0 1 0 0 1 0 0 0 0 0 0 0 1 0 0 1 0 0 0 0 0 1\n  0 0]]\n",
          "output_type": "stream"
        }
      ]
    },
    {
      "cell_type": "code",
      "source": [
        "count=CountVectorizer(ngram_range=(1,1),stop_words=None,max_df=0.25)\n",
        "vectorized=count.fit_transform(ukr)\n",
        "vectorized=vectorized.toarray()\n",
        "print(count.vocabulary_)\n",
        "print(vectorized)"
      ],
      "metadata": {
        "execution": {
          "iopub.status.busy": "2024-05-12T12:55:27.679308Z",
          "iopub.execute_input": "2024-05-12T12:55:27.679667Z",
          "iopub.status.idle": "2024-05-12T12:55:27.690035Z",
          "shell.execute_reply.started": "2024-05-12T12:55:27.679636Z",
          "shell.execute_reply": "2024-05-12T12:55:27.689190Z"
        },
        "trusted": true,
        "id": "aCvneD0kg6Od",
        "outputId": "2ccafd7e-377a-4153-981a-13a045dc497b"
      },
      "execution_count": null,
      "outputs": [
        {
          "name": "stdout",
          "text": "{'білочка': 0, 'це': 30, 'невелика': 20, 'яку': 34, 'можна': 17, 'зустріти': 10, 'лісах': 14, 'парках': 21, 'її': 35, 'руденьку': 25, 'шубку': 32, 'пухнастий': 24, 'хвіст': 29, 'добре': 9, 'видно': 2, 'серед': 27, 'дерев': 6, 'взимку': 1, 'влітку': 4, 'вона': 5, 'прудка': 23, 'швидка': 31, 'легко': 13, 'перестрибує': 22, 'дерева': 7, 'на': 19, 'дерево': 8, 'керуючи': 12, 'хвостиком': 28, 'мов': 16, 'кермом': 11, 'мордочка': 18, 'маленька': 15, 'як': 33, 'сама': 26, 'витягнута': 3}\n[[1 0 0 0 0 0 0 0 0 0 1 0 0 0 1 0 0 1 0 0 1 1 0 0 0 0 0 0 0 0 1 0 0 0 1 0]\n [0 1 1 0 1 0 1 0 0 1 0 0 0 0 0 0 0 0 0 0 0 0 0 0 1 1 0 1 0 1 0 0 1 0 0 1]\n [0 0 0 0 0 1 0 1 1 0 0 1 1 1 0 0 1 0 0 1 0 0 1 1 0 0 0 0 1 0 0 1 0 0 0 0]\n [0 0 0 1 0 0 0 0 0 0 0 0 0 0 0 1 0 0 1 0 0 0 0 0 0 0 1 0 0 0 0 0 0 1 0 0]]\n",
          "output_type": "stream"
        }
      ]
    },
    {
      "cell_type": "code",
      "source": [
        "count=CountVectorizer(ngram_range=(2,2),stop_words=None,max_df=1.0)\n",
        "vectorized=count.fit_transform(ukr)\n",
        "vectorized=vectorized.toarray()\n",
        "print(count.vocabulary_)\n",
        "print(vectorized)"
      ],
      "metadata": {
        "execution": {
          "iopub.status.busy": "2024-05-12T12:55:27.691004Z",
          "iopub.execute_input": "2024-05-12T12:55:27.691289Z",
          "iopub.status.idle": "2024-05-12T12:55:27.704575Z",
          "shell.execute_reply.started": "2024-05-12T12:55:27.691267Z",
          "shell.execute_reply": "2024-05-12T12:55:27.703615Z"
        },
        "trusted": true,
        "id": "0a3RohVWg6Od",
        "outputId": "c3bdea08-443f-4043-ef20-0b40b2b5d7b4"
      },
      "execution_count": null,
      "outputs": [
        {
          "name": "stdout",
          "text": "{'білочка це': 0, 'це невелика': 31, 'невелика тваринка': 17, 'тваринка яку': 28, 'яку можна': 35, 'можна зустріти': 14, 'зустріти лісах': 8, 'лісах та': 11, 'та парках': 24, 'її руденьку': 36, 'руденьку шубку': 21, 'шубку та': 33, 'та пухнастий': 25, 'пухнастий хвіст': 20, 'хвіст добре': 30, 'добре видно': 7, 'видно серед': 2, 'серед дерев': 23, 'дерев взимку': 4, 'взимку влітку': 1, 'вона прудка': 3, 'прудка та': 19, 'та швидка': 26, 'швидка легко': 32, 'легко перестрибує': 10, 'перестрибує дерева': 18, 'дерева на': 5, 'на дерево': 16, 'дерево керуючи': 6, 'керуючи хвостиком': 9, 'хвостиком мов': 29, 'мов кермом': 13, 'мордочка маленька': 15, 'маленька як': 12, 'як сама': 34, 'сама тваринка': 22, 'тваринка витягнута': 27}\n[[1 0 0 0 0 0 0 0 1 0 0 1 0 0 1 0 0 1 0 0 0 0 0 0 1 0 0 0 1 0 0 1 0 0 0 1\n  0]\n [0 1 1 0 1 0 0 1 0 0 0 0 0 0 0 0 0 0 0 0 1 1 0 1 0 1 0 0 0 0 1 0 0 1 0 0\n  1]\n [0 0 0 1 0 1 1 0 0 1 1 0 0 1 0 0 1 0 1 1 0 0 0 0 0 0 1 0 0 1 0 0 1 0 0 0\n  0]\n [0 0 0 0 0 0 0 0 0 0 0 0 1 0 0 1 0 0 0 0 0 0 1 0 0 0 0 1 0 0 0 0 0 0 1 0\n  0]]\n",
          "output_type": "stream"
        }
      ]
    },
    {
      "cell_type": "markdown",
      "source": [
        "### **TfIdf**"
      ],
      "metadata": {
        "id": "4KFPbNRyg6Oe"
      }
    },
    {
      "cell_type": "markdown",
      "source": [
        "#### **English**"
      ],
      "metadata": {
        "id": "KP2nworWg6Oe"
      }
    },
    {
      "cell_type": "code",
      "source": [
        "tfidf=TfidfVectorizer(norm='l2',use_idf=True,smooth_idf=True)\n",
        "vectorized=tfidf.fit_transform(eng)\n",
        "vectorized=vectorized.toarray()\n",
        "print(tfidf.vocabulary_)\n",
        "print(vectorized)"
      ],
      "metadata": {
        "execution": {
          "iopub.status.busy": "2024-05-12T12:55:27.705733Z",
          "iopub.execute_input": "2024-05-12T12:55:27.706018Z",
          "iopub.status.idle": "2024-05-12T12:55:27.723468Z",
          "shell.execute_reply.started": "2024-05-12T12:55:27.705995Z",
          "shell.execute_reply": "2024-05-12T12:55:27.722542Z"
        },
        "trusted": true,
        "id": "uSROf9KMg6Oe",
        "outputId": "527ee303-0dbd-45e3-9a45-9cdf21cd4d13"
      },
      "execution_count": null,
      "outputs": [
        {
          "name": "stdout",
          "text": "{'who': 31, 'are': 1, 'you': 36, 'talking': 25, 'to': 28, 'right': 21, 'now': 20, 'is': 13, 'it': 14, 'think': 27, 'see': 22, 'do': 5, 'know': 15, 'how': 9, 'much': 18, 'make': 16, 'year': 35, 'mean': 17, 'even': 6, 'if': 10, 'told': 29, 'wouldn': 34, 'believe': 2, 'what': 30, 'would': 33, 'happen': 8, 'suddenly': 24, 'decided': 4, 'stop': 23, 'going': 7, 'into': 12, 'work': 32, 'am': 0, 'not': 19, 'in': 11, 'danger': 3, 'the': 26}\n[[0.         0.42185336 0.         0.         0.         0.\n  0.         0.         0.         0.         0.         0.\n  0.         0.         0.         0.         0.         0.\n  0.         0.         0.42185336 0.42185336 0.         0.\n  0.         0.42185336 0.         0.         0.34034864 0.\n  0.         0.34034864 0.         0.         0.         0.\n  0.23766483]\n [0.         0.         0.         0.         0.         0.22855929\n  0.         0.         0.         0.28329335 0.         0.\n  0.         0.28329335 0.22855929 0.22855929 0.28329335 0.\n  0.28329335 0.         0.         0.         0.28329335 0.\n  0.         0.         0.         0.28329335 0.         0.\n  0.         0.22855929 0.         0.         0.         0.28329335\n  0.4788076 ]\n [0.         0.         0.36342182 0.         0.         0.\n  0.36342182 0.         0.         0.         0.29320643 0.\n  0.         0.         0.29320643 0.         0.         0.36342182\n  0.         0.         0.         0.         0.         0.\n  0.         0.         0.         0.         0.         0.36342182\n  0.         0.         0.         0.         0.36342182 0.\n  0.40949102]\n [0.         0.         0.         0.         0.28962929 0.23367109\n  0.         0.28962929 0.28962929 0.         0.23367109 0.\n  0.28962929 0.         0.         0.23367109 0.         0.\n  0.         0.         0.         0.         0.         0.28962929\n  0.28962929 0.         0.         0.         0.23367109 0.\n  0.28962929 0.         0.28962929 0.28962929 0.         0.\n  0.16317209]\n [0.60302269 0.         0.         0.60302269 0.         0.\n  0.         0.         0.         0.         0.         0.30151134\n  0.         0.         0.         0.         0.         0.\n  0.         0.30151134 0.         0.         0.         0.\n  0.         0.         0.30151134 0.         0.         0.\n  0.         0.         0.         0.         0.         0.\n  0.        ]]\n",
          "output_type": "stream"
        }
      ]
    },
    {
      "cell_type": "code",
      "source": [
        "tfidf=TfidfVectorizer(norm='l2',use_idf=True,smooth_idf=False)\n",
        "vectorized=tfidf.fit_transform(eng)\n",
        "vectorized=vectorized.toarray()\n",
        "print(tfidf.vocabulary_)\n",
        "print(vectorized)"
      ],
      "metadata": {
        "execution": {
          "iopub.status.busy": "2024-05-12T12:55:27.724356Z",
          "iopub.execute_input": "2024-05-12T12:55:27.724746Z",
          "iopub.status.idle": "2024-05-12T12:55:27.737562Z",
          "shell.execute_reply.started": "2024-05-12T12:55:27.724721Z",
          "shell.execute_reply": "2024-05-12T12:55:27.736519Z"
        },
        "trusted": true,
        "id": "mei_prbSg6Oe",
        "outputId": "1bfb23e1-27d6-4205-b831-3f2fa82f05a0"
      },
      "execution_count": null,
      "outputs": [
        {
          "name": "stdout",
          "text": "{'who': 31, 'are': 1, 'you': 36, 'talking': 25, 'to': 28, 'right': 21, 'now': 20, 'is': 13, 'it': 14, 'think': 27, 'see': 22, 'do': 5, 'know': 15, 'how': 9, 'much': 18, 'make': 16, 'year': 35, 'mean': 17, 'even': 6, 'if': 10, 'told': 29, 'wouldn': 34, 'believe': 2, 'what': 30, 'would': 33, 'happen': 8, 'suddenly': 24, 'decided': 4, 'stop': 23, 'going': 7, 'into': 12, 'work': 32, 'am': 0, 'not': 19, 'in': 11, 'danger': 3, 'the': 26}\n[[0.         0.43444144 0.         0.         0.         0.\n  0.         0.         0.         0.         0.         0.\n  0.         0.         0.         0.         0.         0.\n  0.         0.         0.43444144 0.43444144 0.         0.\n  0.         0.43444144 0.         0.         0.3190404  0.\n  0.         0.3190404  0.         0.         0.         0.\n  0.20363935]\n [0.         0.         0.         0.         0.         0.22007792\n  0.         0.         0.         0.29968296 0.         0.\n  0.         0.29968296 0.22007792 0.22007792 0.29968296 0.\n  0.29968296 0.         0.         0.         0.29968296 0.\n  0.         0.         0.         0.29968296 0.         0.\n  0.         0.22007792 0.         0.         0.         0.29968296\n  0.42141867]\n [0.         0.         0.37911824 0.         0.         0.\n  0.37911824 0.         0.         0.         0.27841275 0.\n  0.         0.         0.27841275 0.         0.         0.37911824\n  0.         0.         0.         0.         0.         0.\n  0.         0.         0.         0.         0.         0.37911824\n  0.         0.         0.         0.         0.37911824 0.\n  0.3554145 ]\n [0.         0.         0.         0.         0.29647486 0.217722\n  0.         0.29647486 0.29647486 0.         0.217722   0.\n  0.29647486 0.         0.         0.217722   0.         0.\n  0.         0.         0.         0.         0.         0.29647486\n  0.29647486 0.         0.         0.         0.217722   0.\n  0.29647486 0.         0.29647486 0.29647486 0.         0.\n  0.13896913]\n [0.60302269 0.         0.         0.60302269 0.         0.\n  0.         0.         0.         0.         0.         0.30151134\n  0.         0.         0.         0.         0.         0.\n  0.         0.30151134 0.         0.         0.         0.\n  0.         0.         0.30151134 0.         0.         0.\n  0.         0.         0.         0.         0.         0.\n  0.        ]]\n",
          "output_type": "stream"
        }
      ]
    },
    {
      "cell_type": "code",
      "source": [
        "tfidf=TfidfVectorizer(norm='l2',use_idf=False,smooth_idf=True)\n",
        "vectorized=tfidf.fit_transform(eng)\n",
        "vectorized=vectorized.toarray()\n",
        "print(tfidf.vocabulary_)\n",
        "print(vectorized)"
      ],
      "metadata": {
        "execution": {
          "iopub.status.busy": "2024-05-12T12:55:27.738824Z",
          "iopub.execute_input": "2024-05-12T12:55:27.739141Z",
          "iopub.status.idle": "2024-05-12T12:55:27.750779Z",
          "shell.execute_reply.started": "2024-05-12T12:55:27.739104Z",
          "shell.execute_reply": "2024-05-12T12:55:27.749869Z"
        },
        "trusted": true,
        "id": "irfXGip0g6Oe",
        "outputId": "728464af-0014-40e6-b3b3-c4f07ef4ebb2"
      },
      "execution_count": null,
      "outputs": [
        {
          "name": "stdout",
          "text": "{'who': 31, 'are': 1, 'you': 36, 'talking': 25, 'to': 28, 'right': 21, 'now': 20, 'is': 13, 'it': 14, 'think': 27, 'see': 22, 'do': 5, 'know': 15, 'how': 9, 'much': 18, 'make': 16, 'year': 35, 'mean': 17, 'even': 6, 'if': 10, 'told': 29, 'wouldn': 34, 'believe': 2, 'what': 30, 'would': 33, 'happen': 8, 'suddenly': 24, 'decided': 4, 'stop': 23, 'going': 7, 'into': 12, 'work': 32, 'am': 0, 'not': 19, 'in': 11, 'danger': 3, 'the': 26}\n[[0.         0.37796447 0.         0.         0.         0.\n  0.         0.         0.         0.         0.         0.\n  0.         0.         0.         0.         0.         0.\n  0.         0.         0.37796447 0.37796447 0.         0.\n  0.         0.37796447 0.         0.         0.37796447 0.\n  0.         0.37796447 0.         0.         0.         0.\n  0.37796447]\n [0.         0.         0.         0.         0.         0.2236068\n  0.         0.         0.         0.2236068  0.         0.\n  0.         0.2236068  0.2236068  0.2236068  0.2236068  0.\n  0.2236068  0.         0.         0.         0.2236068  0.\n  0.         0.         0.         0.2236068  0.         0.\n  0.         0.2236068  0.         0.         0.         0.2236068\n  0.67082039]\n [0.         0.         0.30151134 0.         0.         0.\n  0.30151134 0.         0.         0.         0.30151134 0.\n  0.         0.         0.30151134 0.         0.         0.30151134\n  0.         0.         0.         0.         0.         0.\n  0.         0.         0.         0.         0.         0.30151134\n  0.         0.         0.         0.         0.30151134 0.\n  0.60302269]\n [0.         0.         0.         0.         0.26726124 0.26726124\n  0.         0.26726124 0.26726124 0.         0.26726124 0.\n  0.26726124 0.         0.         0.26726124 0.         0.\n  0.         0.         0.         0.         0.         0.26726124\n  0.26726124 0.         0.         0.         0.26726124 0.\n  0.26726124 0.         0.26726124 0.26726124 0.         0.\n  0.26726124]\n [0.60302269 0.         0.         0.60302269 0.         0.\n  0.         0.         0.         0.         0.         0.30151134\n  0.         0.         0.         0.         0.         0.\n  0.         0.30151134 0.         0.         0.         0.\n  0.         0.         0.30151134 0.         0.         0.\n  0.         0.         0.         0.         0.         0.\n  0.        ]]\n",
          "output_type": "stream"
        }
      ]
    },
    {
      "cell_type": "code",
      "source": [
        "tfidf=TfidfVectorizer(norm='l1',use_idf=True,smooth_idf=True)\n",
        "vectorized=tfidf.fit_transform(eng)\n",
        "vectorized=vectorized.toarray()\n",
        "print(tfidf.vocabulary_)\n",
        "print(vectorized)"
      ],
      "metadata": {
        "execution": {
          "iopub.status.busy": "2024-05-12T12:55:27.751992Z",
          "iopub.execute_input": "2024-05-12T12:55:27.752305Z",
          "iopub.status.idle": "2024-05-12T12:55:27.765577Z",
          "shell.execute_reply.started": "2024-05-12T12:55:27.752282Z",
          "shell.execute_reply": "2024-05-12T12:55:27.764618Z"
        },
        "trusted": true,
        "id": "FI4l4tHPg6Oe",
        "outputId": "31164ead-6f30-40bd-e2e0-3e1b9177e824"
      },
      "execution_count": null,
      "outputs": [
        {
          "name": "stdout",
          "text": "{'who': 31, 'are': 1, 'you': 36, 'talking': 25, 'to': 28, 'right': 21, 'now': 20, 'is': 13, 'it': 14, 'think': 27, 'see': 22, 'do': 5, 'know': 15, 'how': 9, 'much': 18, 'make': 16, 'year': 35, 'mean': 17, 'even': 6, 'if': 10, 'told': 29, 'wouldn': 34, 'believe': 2, 'what': 30, 'would': 33, 'happen': 8, 'suddenly': 24, 'decided': 4, 'stop': 23, 'going': 7, 'into': 12, 'work': 32, 'am': 0, 'not': 19, 'in': 11, 'danger': 3, 'the': 26}\n[[0.         0.16189167 0.         0.         0.         0.\n  0.         0.         0.         0.         0.         0.\n  0.         0.         0.         0.         0.         0.\n  0.         0.         0.16189167 0.16189167 0.         0.\n  0.         0.16189167 0.         0.         0.13061318 0.\n  0.         0.13061318 0.         0.         0.         0.\n  0.09120694]\n [0.         0.         0.         0.         0.         0.06769924\n  0.         0.         0.         0.08391147 0.         0.\n  0.         0.08391147 0.06769924 0.06769924 0.08391147 0.\n  0.08391147 0.         0.         0.         0.08391147 0.\n  0.         0.         0.         0.08391147 0.         0.\n  0.         0.06769924 0.         0.         0.         0.08391147\n  0.14182277]\n [0.         0.         0.12919308 0.         0.         0.\n  0.12919308 0.         0.         0.         0.10423217 0.\n  0.         0.         0.10423217 0.         0.         0.12919308\n  0.         0.         0.         0.         0.         0.\n  0.         0.         0.         0.         0.         0.12919308\n  0.         0.         0.         0.         0.12919308 0.\n  0.14557026]\n [0.         0.         0.         0.         0.07818268 0.06307729\n  0.         0.07818268 0.07818268 0.         0.06307729 0.\n  0.07818268 0.         0.         0.06307729 0.         0.\n  0.         0.         0.         0.         0.         0.07818268\n  0.07818268 0.         0.         0.         0.06307729 0.\n  0.07818268 0.         0.07818268 0.07818268 0.         0.\n  0.04404676]\n [0.28571429 0.         0.         0.28571429 0.         0.\n  0.         0.         0.         0.         0.         0.14285714\n  0.         0.         0.         0.         0.         0.\n  0.         0.14285714 0.         0.         0.         0.\n  0.         0.         0.14285714 0.         0.         0.\n  0.         0.         0.         0.         0.         0.\n  0.        ]]\n",
          "output_type": "stream"
        }
      ]
    },
    {
      "cell_type": "markdown",
      "source": [
        "#### **Ukrainian**"
      ],
      "metadata": {
        "id": "Ewf3EdF0g6Oe"
      }
    },
    {
      "cell_type": "code",
      "source": [
        "tfidf=TfidfVectorizer(norm='l2',use_idf=True,smooth_idf=True)\n",
        "vectorized=tfidf.fit_transform(ukr)\n",
        "vectorized=vectorized.toarray()\n",
        "print(tfidf.vocabulary_)\n",
        "print(vectorized)"
      ],
      "metadata": {
        "execution": {
          "iopub.status.busy": "2024-05-12T12:55:27.766586Z",
          "iopub.execute_input": "2024-05-12T12:55:27.766938Z",
          "iopub.status.idle": "2024-05-12T12:55:27.777359Z",
          "shell.execute_reply.started": "2024-05-12T12:55:27.766914Z",
          "shell.execute_reply": "2024-05-12T12:55:27.776467Z"
        },
        "trusted": true,
        "id": "4DQk0RpSg6Of",
        "outputId": "ca3bcde6-6cf3-4004-9526-fce4b2312baa"
      },
      "execution_count": null,
      "outputs": [
        {
          "name": "stdout",
          "text": "{'білочка': 0, 'це': 32, 'невелика': 20, 'тваринка': 29, 'яку': 36, 'можна': 17, 'зустріти': 10, 'лісах': 14, 'та': 28, 'парках': 21, 'її': 37, 'руденьку': 25, 'шубку': 34, 'пухнастий': 24, 'хвіст': 31, 'добре': 9, 'видно': 2, 'серед': 27, 'дерев': 6, 'взимку': 1, 'влітку': 4, 'вона': 5, 'прудка': 23, 'швидка': 33, 'легко': 13, 'перестрибує': 22, 'дерева': 7, 'на': 19, 'дерево': 8, 'керуючи': 12, 'хвостиком': 30, 'мов': 16, 'кермом': 11, 'мордочка': 18, 'маленька': 15, 'як': 35, 'сама': 26, 'витягнута': 3}\n[[0.33279753 0.         0.         0.         0.         0.\n  0.         0.         0.         0.         0.33279753 0.\n  0.         0.         0.33279753 0.         0.         0.33279753\n  0.         0.         0.33279753 0.33279753 0.         0.\n  0.         0.         0.         0.         0.21242036 0.2623814\n  0.         0.         0.33279753 0.         0.         0.\n  0.33279753 0.        ]\n [0.         0.29607822 0.29607822 0.         0.29607822 0.\n  0.29607822 0.         0.         0.29607822 0.         0.\n  0.         0.         0.         0.         0.         0.\n  0.         0.         0.         0.         0.         0.\n  0.29607822 0.29607822 0.         0.29607822 0.1889829  0.\n  0.         0.29607822 0.         0.         0.29607822 0.\n  0.         0.29607822]\n [0.         0.         0.         0.         0.         0.2838961\n  0.         0.2838961  0.2838961  0.         0.         0.2838961\n  0.2838961  0.2838961  0.         0.         0.2838961  0.\n  0.         0.2838961  0.         0.         0.2838961  0.2838961\n  0.         0.         0.         0.         0.1812072  0.\n  0.2838961  0.         0.         0.2838961  0.         0.\n  0.         0.        ]\n [0.         0.         0.         0.42176478 0.         0.\n  0.         0.         0.         0.         0.         0.\n  0.         0.         0.         0.42176478 0.         0.\n  0.42176478 0.         0.         0.         0.         0.\n  0.         0.         0.42176478 0.         0.         0.3325242\n  0.         0.         0.         0.         0.         0.42176478\n  0.         0.        ]]\n",
          "output_type": "stream"
        }
      ]
    },
    {
      "cell_type": "code",
      "source": [
        "tfidf=TfidfVectorizer(norm='l2',use_idf=True,smooth_idf=False)\n",
        "vectorized=tfidf.fit_transform(ukr)\n",
        "vectorized=vectorized.toarray()\n",
        "print(tfidf.vocabulary_)\n",
        "print(vectorized)"
      ],
      "metadata": {
        "execution": {
          "iopub.status.busy": "2024-05-12T12:55:27.778473Z",
          "iopub.execute_input": "2024-05-12T12:55:27.778791Z",
          "iopub.status.idle": "2024-05-12T12:55:27.789950Z",
          "shell.execute_reply.started": "2024-05-12T12:55:27.778761Z",
          "shell.execute_reply": "2024-05-12T12:55:27.788989Z"
        },
        "trusted": true,
        "id": "u_0DJ_KNg6Of",
        "outputId": "909e6bee-4e71-47a4-a982-d82539f1001f"
      },
      "execution_count": null,
      "outputs": [
        {
          "name": "stdout",
          "text": "{'білочка': 0, 'це': 32, 'невелика': 20, 'тваринка': 29, 'яку': 36, 'можна': 17, 'зустріти': 10, 'лісах': 14, 'та': 28, 'парках': 21, 'її': 37, 'руденьку': 25, 'шубку': 34, 'пухнастий': 24, 'хвіст': 31, 'добре': 9, 'видно': 2, 'серед': 27, 'дерев': 6, 'взимку': 1, 'влітку': 4, 'вона': 5, 'прудка': 23, 'швидка': 33, 'легко': 13, 'перестрибує': 22, 'дерева': 7, 'на': 19, 'дерево': 8, 'керуючи': 12, 'хвостиком': 30, 'мов': 16, 'кермом': 11, 'мордочка': 18, 'маленька': 15, 'як': 35, 'сама': 26, 'витягнута': 3}\n[[0.33720307 0.         0.         0.         0.         0.\n  0.         0.         0.         0.         0.33720307 0.\n  0.         0.         0.33720307 0.         0.         0.33720307\n  0.         0.         0.33720307 0.33720307 0.         0.\n  0.         0.         0.         0.         0.18196009 0.23925565\n  0.         0.         0.33720307 0.         0.         0.\n  0.33720307 0.        ]\n [0.         0.29759816 0.29759816 0.         0.29759816 0.\n  0.29759816 0.         0.         0.29759816 0.         0.\n  0.         0.         0.         0.         0.         0.\n  0.         0.         0.         0.         0.         0.\n  0.29759816 0.29759816 0.         0.29759816 0.16058866 0.\n  0.         0.29759816 0.         0.         0.29759816 0.\n  0.         0.29759816]\n [0.         0.         0.         0.         0.         0.2852352\n  0.         0.2852352  0.2852352  0.         0.         0.2852352\n  0.2852352  0.2852352  0.         0.         0.2852352  0.\n  0.         0.2852352  0.         0.         0.2852352  0.2852352\n  0.         0.         0.         0.         0.15391741 0.\n  0.2852352  0.         0.         0.2852352  0.         0.\n  0.         0.        ]\n [0.         0.         0.         0.42626843 0.         0.\n  0.         0.         0.         0.         0.         0.\n  0.         0.         0.         0.42626843 0.         0.\n  0.42626843 0.         0.         0.         0.         0.\n  0.         0.         0.42626843 0.         0.         0.30245019\n  0.         0.         0.         0.         0.         0.42626843\n  0.         0.        ]]\n",
          "output_type": "stream"
        }
      ]
    },
    {
      "cell_type": "code",
      "source": [
        "tfidf=TfidfVectorizer(norm='l2',use_idf=False,smooth_idf=True)\n",
        "vectorized=tfidf.fit_transform(ukr)\n",
        "vectorized=vectorized.toarray()\n",
        "print(tfidf.vocabulary_)\n",
        "print(vectorized)"
      ],
      "metadata": {
        "execution": {
          "iopub.status.busy": "2024-05-12T12:55:27.791105Z",
          "iopub.execute_input": "2024-05-12T12:55:27.791377Z",
          "iopub.status.idle": "2024-05-12T12:55:27.799906Z",
          "shell.execute_reply.started": "2024-05-12T12:55:27.791354Z",
          "shell.execute_reply": "2024-05-12T12:55:27.798899Z"
        },
        "trusted": true,
        "id": "LcO7Jo3ig6Of",
        "outputId": "ee522ebe-71f9-46c0-86f1-0db12e459e7d"
      },
      "execution_count": null,
      "outputs": [
        {
          "name": "stdout",
          "text": "{'білочка': 0, 'це': 32, 'невелика': 20, 'тваринка': 29, 'яку': 36, 'можна': 17, 'зустріти': 10, 'лісах': 14, 'та': 28, 'парках': 21, 'її': 37, 'руденьку': 25, 'шубку': 34, 'пухнастий': 24, 'хвіст': 31, 'добре': 9, 'видно': 2, 'серед': 27, 'дерев': 6, 'взимку': 1, 'влітку': 4, 'вона': 5, 'прудка': 23, 'швидка': 33, 'легко': 13, 'перестрибує': 22, 'дерева': 7, 'на': 19, 'дерево': 8, 'керуючи': 12, 'хвостиком': 30, 'мов': 16, 'кермом': 11, 'мордочка': 18, 'маленька': 15, 'як': 35, 'сама': 26, 'витягнута': 3}\n[[0.31622777 0.         0.         0.         0.         0.\n  0.         0.         0.         0.         0.31622777 0.\n  0.         0.         0.31622777 0.         0.         0.31622777\n  0.         0.         0.31622777 0.31622777 0.         0.\n  0.         0.         0.         0.         0.31622777 0.31622777\n  0.         0.         0.31622777 0.         0.         0.\n  0.31622777 0.        ]\n [0.         0.28867513 0.28867513 0.         0.28867513 0.\n  0.28867513 0.         0.         0.28867513 0.         0.\n  0.         0.         0.         0.         0.         0.\n  0.         0.         0.         0.         0.         0.\n  0.28867513 0.28867513 0.         0.28867513 0.28867513 0.\n  0.         0.28867513 0.         0.         0.28867513 0.\n  0.         0.28867513]\n [0.         0.         0.         0.         0.         0.2773501\n  0.         0.2773501  0.2773501  0.         0.         0.2773501\n  0.2773501  0.2773501  0.         0.         0.2773501  0.\n  0.         0.2773501  0.         0.         0.2773501  0.2773501\n  0.         0.         0.         0.         0.2773501  0.\n  0.2773501  0.         0.         0.2773501  0.         0.\n  0.         0.        ]\n [0.         0.         0.         0.40824829 0.         0.\n  0.         0.         0.         0.         0.         0.\n  0.         0.         0.         0.40824829 0.         0.\n  0.40824829 0.         0.         0.         0.         0.\n  0.         0.         0.40824829 0.         0.         0.40824829\n  0.         0.         0.         0.         0.         0.40824829\n  0.         0.        ]]\n",
          "output_type": "stream"
        }
      ]
    },
    {
      "cell_type": "code",
      "source": [
        "tfidf=TfidfVectorizer(norm='l1',use_idf=True,smooth_idf=True)\n",
        "vectorized=tfidf.fit_transform(ukr)\n",
        "vectorized=vectorized.toarray()\n",
        "print(tfidf.vocabulary_)\n",
        "print(vectorized)"
      ],
      "metadata": {
        "execution": {
          "iopub.status.busy": "2024-05-12T12:55:27.800999Z",
          "iopub.execute_input": "2024-05-12T12:55:27.801288Z",
          "iopub.status.idle": "2024-05-12T12:55:27.814073Z",
          "shell.execute_reply.started": "2024-05-12T12:55:27.801265Z",
          "shell.execute_reply": "2024-05-12T12:55:27.813115Z"
        },
        "trusted": true,
        "id": "vmbX89xdg6Of",
        "outputId": "377c01a6-3fe3-4020-c6fd-f51e638e2f91"
      },
      "execution_count": null,
      "outputs": [
        {
          "name": "stdout",
          "text": "{'білочка': 0, 'це': 32, 'невелика': 20, 'тваринка': 29, 'яку': 36, 'можна': 17, 'зустріти': 10, 'лісах': 14, 'та': 28, 'парках': 21, 'її': 37, 'руденьку': 25, 'шубку': 34, 'пухнастий': 24, 'хвіст': 31, 'добре': 9, 'видно': 2, 'серед': 27, 'дерев': 6, 'взимку': 1, 'влітку': 4, 'вона': 5, 'прудка': 23, 'швидка': 33, 'легко': 13, 'перестрибує': 22, 'дерева': 7, 'на': 19, 'дерево': 8, 'керуючи': 12, 'хвостиком': 30, 'мов': 16, 'кермом': 11, 'мордочка': 18, 'маленька': 15, 'як': 35, 'сама': 26, 'витягнута': 3}\n[[0.10608168 0.         0.         0.         0.         0.\n  0.         0.         0.         0.         0.10608168 0.\n  0.         0.         0.10608168 0.         0.         0.10608168\n  0.         0.         0.10608168 0.10608168 0.         0.\n  0.         0.         0.         0.         0.06771056 0.08363601\n  0.         0.         0.10608168 0.         0.         0.\n  0.10608168 0.        ]\n [0.         0.0859233  0.0859233  0.         0.0859233  0.\n  0.0859233  0.         0.         0.0859233  0.         0.\n  0.         0.         0.         0.         0.         0.\n  0.         0.         0.         0.         0.         0.\n  0.0859233  0.0859233  0.         0.0859233  0.05484373 0.\n  0.         0.0859233  0.         0.         0.0859233  0.\n  0.         0.0859233 ]\n [0.         0.         0.         0.         0.         0.07912465\n  0.         0.07912465 0.07912465 0.         0.         0.07912465\n  0.07912465 0.07912465 0.         0.         0.07912465 0.\n  0.         0.07912465 0.         0.         0.07912465 0.07912465\n  0.         0.         0.         0.         0.05050424 0.\n  0.07912465 0.         0.         0.07912465 0.         0.\n  0.         0.        ]\n [0.         0.         0.         0.17275897 0.         0.\n  0.         0.         0.         0.         0.         0.\n  0.         0.         0.         0.17275897 0.         0.\n  0.17275897 0.         0.         0.         0.         0.\n  0.         0.         0.17275897 0.         0.         0.13620516\n  0.         0.         0.         0.         0.         0.17275897\n  0.         0.        ]]\n",
          "output_type": "stream"
        }
      ]
    },
    {
      "cell_type": "markdown",
      "source": [
        "## **Tokenization**"
      ],
      "metadata": {
        "id": "Qvp0nhy8g6Of"
      }
    },
    {
      "cell_type": "markdown",
      "source": [
        "### **Split on 'Space'**"
      ],
      "metadata": {
        "id": "maJw8SNfg6Og"
      }
    },
    {
      "cell_type": "code",
      "source": [
        "eng=[text.split(' ') for text in eng]\n",
        "print(eng)\n",
        "ukr=[text.split(' ') for text in ukr]\n",
        "print(ukr)"
      ],
      "metadata": {
        "execution": {
          "iopub.status.busy": "2024-05-12T12:55:27.815250Z",
          "iopub.execute_input": "2024-05-12T12:55:27.815821Z",
          "iopub.status.idle": "2024-05-12T12:55:27.823419Z",
          "shell.execute_reply.started": "2024-05-12T12:55:27.815789Z",
          "shell.execute_reply": "2024-05-12T12:55:27.822412Z"
        },
        "trusted": true,
        "id": "HrC5BaXSg6Og",
        "outputId": "11483d02-ef79-44cf-fa5b-5416be5862bd"
      },
      "execution_count": null,
      "outputs": [
        {
          "name": "stdout",
          "text": "[['who', 'are', 'you', 'talking', 'to', 'right', 'now'], ['who', 'is', 'it', 'you', 'think', 'you', 'see', 'do', 'you', 'know', 'how', 'much', 'i', 'make', 'a', 'year'], ['i', 'mean', 'even', 'if', 'i', 'told', 'you', 'you', \"wouldn't\", 'believe', 'it'], ['do', 'you', 'know', 'what', 'would', 'happen', 'if', 'i', 'suddenly', 'decided', 'to', 'stop', 'going', 'into', 'work'], ['i', 'am', 'not', 'in', 'danger', '', 'i', 'am', 'the', 'danger']]\n[['білочка', '–', 'це', 'невелика', 'тваринка', 'яку', 'можна', 'зустріти', 'в', 'лісах', 'та', 'парках'], ['її', 'руденьку', 'шубку', 'та', 'пухнастий', 'хвіст', 'добре', 'видно', 'серед', 'дерев', 'і', 'взимку', 'і', 'влітку'], ['вона', 'прудка', 'та', 'швидка', 'легко', 'перестрибує', 'з', 'дерева', 'на', 'дерево', 'керуючи', 'хвостиком', 'мов', 'кермом'], ['мордочка', 'маленька', 'як', 'і', 'сама', 'тваринка', 'і', 'витягнута']]\n",
          "output_type": "stream"
        }
      ]
    },
    {
      "cell_type": "markdown",
      "source": [
        "### **Porter stemmer**"
      ],
      "metadata": {
        "id": "KvWAyA6Gg6Og"
      }
    },
    {
      "cell_type": "code",
      "source": [
        "porter=nltk.PorterStemmer()\n",
        "print([[porter.stem(w) for w in text] for text in eng])"
      ],
      "metadata": {
        "execution": {
          "iopub.status.busy": "2024-05-12T12:55:27.824374Z",
          "iopub.execute_input": "2024-05-12T12:55:27.824610Z",
          "iopub.status.idle": "2024-05-12T12:55:27.833881Z",
          "shell.execute_reply.started": "2024-05-12T12:55:27.824589Z",
          "shell.execute_reply": "2024-05-12T12:55:27.832968Z"
        },
        "trusted": true,
        "id": "LjbrYKX9g6Og",
        "outputId": "54443931-e8b1-458f-ffee-3e7eeacb1659"
      },
      "execution_count": null,
      "outputs": [
        {
          "name": "stdout",
          "text": "[['who', 'are', 'you', 'talk', 'to', 'right', 'now'], ['who', 'is', 'it', 'you', 'think', 'you', 'see', 'do', 'you', 'know', 'how', 'much', 'i', 'make', 'a', 'year'], ['i', 'mean', 'even', 'if', 'i', 'told', 'you', 'you', \"wouldn't\", 'believ', 'it'], ['do', 'you', 'know', 'what', 'would', 'happen', 'if', 'i', 'suddenli', 'decid', 'to', 'stop', 'go', 'into', 'work'], ['i', 'am', 'not', 'in', 'danger', '', 'i', 'am', 'the', 'danger']]\n",
          "output_type": "stream"
        }
      ]
    },
    {
      "cell_type": "markdown",
      "source": [
        "### **Snowball stemmer**"
      ],
      "metadata": {
        "id": "IrZfGyu-g6Og"
      }
    },
    {
      "cell_type": "code",
      "source": [
        "snowball=nltk.SnowballStemmer(language='english')\n",
        "print([[snowball.stem(w) for w in text] for text in eng])"
      ],
      "metadata": {
        "execution": {
          "iopub.status.busy": "2024-05-12T12:55:27.834998Z",
          "iopub.execute_input": "2024-05-12T12:55:27.835410Z",
          "iopub.status.idle": "2024-05-12T12:55:27.844265Z",
          "shell.execute_reply.started": "2024-05-12T12:55:27.835385Z",
          "shell.execute_reply": "2024-05-12T12:55:27.843422Z"
        },
        "trusted": true,
        "id": "ViZiNVDqg6Og",
        "outputId": "6c13f128-5ce3-40c2-99a9-bebaabd09f2d"
      },
      "execution_count": null,
      "outputs": [
        {
          "name": "stdout",
          "text": "[['who', 'are', 'you', 'talk', 'to', 'right', 'now'], ['who', 'is', 'it', 'you', 'think', 'you', 'see', 'do', 'you', 'know', 'how', 'much', 'i', 'make', 'a', 'year'], ['i', 'mean', 'even', 'if', 'i', 'told', 'you', 'you', \"wouldn't\", 'believ', 'it'], ['do', 'you', 'know', 'what', 'would', 'happen', 'if', 'i', 'sudden', 'decid', 'to', 'stop', 'go', 'into', 'work'], ['i', 'am', 'not', 'in', 'danger', '', 'i', 'am', 'the', 'danger']]\n",
          "output_type": "stream"
        }
      ]
    },
    {
      "cell_type": "markdown",
      "source": [
        "## **Stop words**"
      ],
      "metadata": {
        "id": "aGQzNW3yg6Oh"
      }
    },
    {
      "cell_type": "code",
      "source": [
        "stopwords=nltk.corpus.stopwords.words('english')\n",
        "print([[w for w in text if w not in stopwords] for text in eng])"
      ],
      "metadata": {
        "execution": {
          "iopub.status.busy": "2024-05-12T12:55:27.845307Z",
          "iopub.execute_input": "2024-05-12T12:55:27.845559Z",
          "iopub.status.idle": "2024-05-12T12:55:27.860992Z",
          "shell.execute_reply.started": "2024-05-12T12:55:27.845538Z",
          "shell.execute_reply": "2024-05-12T12:55:27.860126Z"
        },
        "trusted": true,
        "id": "XjsSIP5ig6Oh",
        "outputId": "8bab96f6-4fa1-4144-9672-706c3ecab2f8"
      },
      "execution_count": null,
      "outputs": [
        {
          "name": "stdout",
          "text": "[['talking', 'right'], ['think', 'see', 'know', 'much', 'make', 'year'], ['mean', 'even', 'told', 'believe'], ['know', 'would', 'happen', 'suddenly', 'decided', 'stop', 'going', 'work'], ['danger', '', 'danger']]\n",
          "output_type": "stream"
        }
      ]
    },
    {
      "cell_type": "markdown",
      "source": [
        "# **Sentiment analysis**"
      ],
      "metadata": {
        "id": "pAQ_B4jMg6Oh"
      }
    },
    {
      "cell_type": "markdown",
      "source": [
        "# **For this task was chosen dataset with depressive and non-depressive tweets from India: https://www.kaggle.com/datasets/mexwell/depressivenon-depressive-tweets-data**"
      ],
      "metadata": {
        "id": "7-rNLt6Ksset"
      }
    },
    {
      "cell_type": "code",
      "source": [
        "words=set(nltk.corpus.words.words('en'))"
      ],
      "metadata": {
        "execution": {
          "iopub.status.busy": "2024-05-12T12:55:27.862115Z",
          "iopub.execute_input": "2024-05-12T12:55:27.862433Z",
          "iopub.status.idle": "2024-05-12T12:55:27.987525Z",
          "shell.execute_reply.started": "2024-05-12T12:55:27.862402Z",
          "shell.execute_reply": "2024-05-12T12:55:27.986684Z"
        },
        "trusted": true,
        "id": "X3vFVLlcg6Oh"
      },
      "execution_count": null,
      "outputs": []
    },
    {
      "cell_type": "code",
      "source": [
        "df=pd.read_csv('/kaggle/input/depressivenon-depressive-tweets-data/clean_tweet_Dec19ToDec20.csv')\n",
        "display(df)"
      ],
      "metadata": {
        "execution": {
          "iopub.status.busy": "2024-05-12T12:55:27.988699Z",
          "iopub.execute_input": "2024-05-12T12:55:27.989032Z",
          "iopub.status.idle": "2024-05-12T12:55:28.497712Z",
          "shell.execute_reply.started": "2024-05-12T12:55:27.989001Z",
          "shell.execute_reply": "2024-05-12T12:55:28.496791Z"
        },
        "trusted": true,
        "id": "qZ17DKrRg6Oi",
        "outputId": "af54eef1-fce9-43b5-f2d0-94fb4262dbf9"
      },
      "execution_count": null,
      "outputs": [
        {
          "output_type": "display_data",
          "data": {
            "text/plain": "        Unnamed: 0                                               text  \\\n0                0                                               text   \n1                1  rising cases of covid does not alarm me rising...   \n2                2  please vote for chicagoindiaresolution marking...   \n3                3  wishing all of you eidaladha hazrat ibrahim as...   \n4                4  daily coronavirus cases in india top for first...   \n...            ...                                                ...   \n134343      134343  happydiwali to india from dgisi and dgispr you...   \n134344      134344  india has been involved in many countries with...   \n134345      134345  does anybody know website which ships pre orde...   \n134346      134346  what hinted few weeks back in an interview wit...   \n134347      134347  this is just slice of what we have pakistan na...   \n\n        sentiment  \n0               0  \n1               1  \n2               0  \n3               1  \n4               1  \n...           ...  \n134343          1  \n134344          1  \n134345          0  \n134346          0  \n134347          0  \n\n[134348 rows x 3 columns]",
            "text/html": "<div>\n<style scoped>\n    .dataframe tbody tr th:only-of-type {\n        vertical-align: middle;\n    }\n\n    .dataframe tbody tr th {\n        vertical-align: top;\n    }\n\n    .dataframe thead th {\n        text-align: right;\n    }\n</style>\n<table border=\"1\" class=\"dataframe\">\n  <thead>\n    <tr style=\"text-align: right;\">\n      <th></th>\n      <th>Unnamed: 0</th>\n      <th>text</th>\n      <th>sentiment</th>\n    </tr>\n  </thead>\n  <tbody>\n    <tr>\n      <th>0</th>\n      <td>0</td>\n      <td>text</td>\n      <td>0</td>\n    </tr>\n    <tr>\n      <th>1</th>\n      <td>1</td>\n      <td>rising cases of covid does not alarm me rising...</td>\n      <td>1</td>\n    </tr>\n    <tr>\n      <th>2</th>\n      <td>2</td>\n      <td>please vote for chicagoindiaresolution marking...</td>\n      <td>0</td>\n    </tr>\n    <tr>\n      <th>3</th>\n      <td>3</td>\n      <td>wishing all of you eidaladha hazrat ibrahim as...</td>\n      <td>1</td>\n    </tr>\n    <tr>\n      <th>4</th>\n      <td>4</td>\n      <td>daily coronavirus cases in india top for first...</td>\n      <td>1</td>\n    </tr>\n    <tr>\n      <th>...</th>\n      <td>...</td>\n      <td>...</td>\n      <td>...</td>\n    </tr>\n    <tr>\n      <th>134343</th>\n      <td>134343</td>\n      <td>happydiwali to india from dgisi and dgispr you...</td>\n      <td>1</td>\n    </tr>\n    <tr>\n      <th>134344</th>\n      <td>134344</td>\n      <td>india has been involved in many countries with...</td>\n      <td>1</td>\n    </tr>\n    <tr>\n      <th>134345</th>\n      <td>134345</td>\n      <td>does anybody know website which ships pre orde...</td>\n      <td>0</td>\n    </tr>\n    <tr>\n      <th>134346</th>\n      <td>134346</td>\n      <td>what hinted few weeks back in an interview wit...</td>\n      <td>0</td>\n    </tr>\n    <tr>\n      <th>134347</th>\n      <td>134347</td>\n      <td>this is just slice of what we have pakistan na...</td>\n      <td>0</td>\n    </tr>\n  </tbody>\n</table>\n<p>134348 rows × 3 columns</p>\n</div>"
          },
          "metadata": {}
        }
      ]
    },
    {
      "cell_type": "code",
      "source": [
        "df.info()"
      ],
      "metadata": {
        "execution": {
          "iopub.status.busy": "2024-05-12T12:55:28.498995Z",
          "iopub.execute_input": "2024-05-12T12:55:28.499326Z",
          "iopub.status.idle": "2024-05-12T12:55:28.530661Z",
          "shell.execute_reply.started": "2024-05-12T12:55:28.499301Z",
          "shell.execute_reply": "2024-05-12T12:55:28.529753Z"
        },
        "trusted": true,
        "id": "crsauA4Ig6Oi",
        "outputId": "03422fb6-8e50-41dd-cdda-04eb6f6c731a"
      },
      "execution_count": null,
      "outputs": [
        {
          "name": "stdout",
          "text": "<class 'pandas.core.frame.DataFrame'>\nRangeIndex: 134348 entries, 0 to 134347\nData columns (total 3 columns):\n #   Column      Non-Null Count   Dtype \n---  ------      --------------   ----- \n 0   Unnamed: 0  134348 non-null  int64 \n 1   text        134330 non-null  object\n 2   sentiment   134348 non-null  int64 \ndtypes: int64(2), object(1)\nmemory usage: 3.1+ MB\n",
          "output_type": "stream"
        }
      ]
    },
    {
      "cell_type": "code",
      "source": [
        "df=df.drop([0],axis=0)\n",
        "df=df.drop(['Unnamed: 0'],axis=1)\n",
        "df=df[df['text'].notna()]\n",
        "df=df.reset_index().drop(['index'],axis=1)\n",
        "display(df)"
      ],
      "metadata": {
        "execution": {
          "iopub.status.busy": "2024-05-12T12:55:28.535979Z",
          "iopub.execute_input": "2024-05-12T12:55:28.536253Z",
          "iopub.status.idle": "2024-05-12T12:55:28.586444Z",
          "shell.execute_reply.started": "2024-05-12T12:55:28.536231Z",
          "shell.execute_reply": "2024-05-12T12:55:28.585573Z"
        },
        "trusted": true,
        "id": "CeyMGn4Pg6Oi",
        "outputId": "0a55d386-75e0-4957-cf62-1b20342b5fa8"
      },
      "execution_count": null,
      "outputs": [
        {
          "output_type": "display_data",
          "data": {
            "text/plain": "                                                     text  sentiment\n0       rising cases of covid does not alarm me rising...          1\n1       please vote for chicagoindiaresolution marking...          0\n2       wishing all of you eidaladha hazrat ibrahim as...          1\n3       daily coronavirus cases in india top for first...          1\n4       sitting here india style watching the raindrop...          0\n...                                                   ...        ...\n134324  happydiwali to india from dgisi and dgispr you...          1\n134325  india has been involved in many countries with...          1\n134326  does anybody know website which ships pre orde...          0\n134327  what hinted few weeks back in an interview wit...          0\n134328  this is just slice of what we have pakistan na...          0\n\n[134329 rows x 2 columns]",
            "text/html": "<div>\n<style scoped>\n    .dataframe tbody tr th:only-of-type {\n        vertical-align: middle;\n    }\n\n    .dataframe tbody tr th {\n        vertical-align: top;\n    }\n\n    .dataframe thead th {\n        text-align: right;\n    }\n</style>\n<table border=\"1\" class=\"dataframe\">\n  <thead>\n    <tr style=\"text-align: right;\">\n      <th></th>\n      <th>text</th>\n      <th>sentiment</th>\n    </tr>\n  </thead>\n  <tbody>\n    <tr>\n      <th>0</th>\n      <td>rising cases of covid does not alarm me rising...</td>\n      <td>1</td>\n    </tr>\n    <tr>\n      <th>1</th>\n      <td>please vote for chicagoindiaresolution marking...</td>\n      <td>0</td>\n    </tr>\n    <tr>\n      <th>2</th>\n      <td>wishing all of you eidaladha hazrat ibrahim as...</td>\n      <td>1</td>\n    </tr>\n    <tr>\n      <th>3</th>\n      <td>daily coronavirus cases in india top for first...</td>\n      <td>1</td>\n    </tr>\n    <tr>\n      <th>4</th>\n      <td>sitting here india style watching the raindrop...</td>\n      <td>0</td>\n    </tr>\n    <tr>\n      <th>...</th>\n      <td>...</td>\n      <td>...</td>\n    </tr>\n    <tr>\n      <th>134324</th>\n      <td>happydiwali to india from dgisi and dgispr you...</td>\n      <td>1</td>\n    </tr>\n    <tr>\n      <th>134325</th>\n      <td>india has been involved in many countries with...</td>\n      <td>1</td>\n    </tr>\n    <tr>\n      <th>134326</th>\n      <td>does anybody know website which ships pre orde...</td>\n      <td>0</td>\n    </tr>\n    <tr>\n      <th>134327</th>\n      <td>what hinted few weeks back in an interview wit...</td>\n      <td>0</td>\n    </tr>\n    <tr>\n      <th>134328</th>\n      <td>this is just slice of what we have pakistan na...</td>\n      <td>0</td>\n    </tr>\n  </tbody>\n</table>\n<p>134329 rows × 2 columns</p>\n</div>"
          },
          "metadata": {}
        }
      ]
    },
    {
      "cell_type": "code",
      "source": [
        "fig=plt.figure(figsize=(10,10))\n",
        "ax=fig.add_subplot(1,1,1)\n",
        "ax.set_title('Distribution of Sentiments')\n",
        "ax.hist(df[df['sentiment']==0]['sentiment'])\n",
        "ax.hist(df[df['sentiment']==1]['sentiment'])\n",
        "ax.grid()\n",
        "plt.xticks([0,1])\n",
        "plt.show()"
      ],
      "metadata": {
        "execution": {
          "iopub.status.busy": "2024-05-12T12:55:28.587645Z",
          "iopub.execute_input": "2024-05-12T12:55:28.587950Z",
          "iopub.status.idle": "2024-05-12T12:55:28.915725Z",
          "shell.execute_reply.started": "2024-05-12T12:55:28.587924Z",
          "shell.execute_reply": "2024-05-12T12:55:28.914679Z"
        },
        "trusted": true,
        "id": "S-5n-7F-g6Oi",
        "outputId": "1dc631f5-e81e-4abf-f9de-1a6554015d7e"
      },
      "execution_count": null,
      "outputs": [
        {
          "output_type": "display_data",
          "data": {
            "text/plain": "<Figure size 1000x1000 with 1 Axes>",
            "image/png": "[encoded data removed]"
          },
          "metadata": {}
        }
      ]
    },
    {
      "cell_type": "code",
      "source": [
        "df['text']=clean_texts_2(df['text'])\n",
        "df=df.where(df['text'].str.len()>0).dropna().reset_index().drop(['index'],axis=1)\n",
        "display(df)"
      ],
      "metadata": {
        "execution": {
          "iopub.status.busy": "2024-05-12T12:55:28.917039Z",
          "iopub.execute_input": "2024-05-12T12:55:28.917360Z",
          "iopub.status.idle": "2024-05-12T12:56:44.486140Z",
          "shell.execute_reply.started": "2024-05-12T12:55:28.917336Z",
          "shell.execute_reply": "2024-05-12T12:56:44.485110Z"
        },
        "trusted": true,
        "id": "R8thr3OQg6Oi",
        "outputId": "473fbfc7-b01a-407f-82bb-304af44a857b"
      },
      "execution_count": null,
      "outputs": [
        {
          "output_type": "display_data",
          "data": {
            "text/plain": "                                                     text  sentiment\n0       [rising, of, covid, does, not, alarm, me, risi...        1.0\n1       [please, vote, for, marking, independence, of,...        0.0\n2       [wishing, all, of, you, as, sab, ko, in, most,...        1.0\n3               [daily, in, top, for, first, time, covid]        1.0\n4       [sitting, here, style, watching, the, hit, thi...        0.0\n...                                                   ...        ...\n133319  [to, from, and, your, real, face, been, expose...        1.0\n133320  [been, involved, in, many, with, there, terror...        1.0\n133321    [does, anybody, know, which, order, season, to]        0.0\n133322  [what, few, back, in, an, interview, with, tod...        0.0\n133323  [this, is, just, slice, of, what, we, have, na...        0.0\n\n[133324 rows x 2 columns]",
            "text/html": "<div>\n<style scoped>\n    .dataframe tbody tr th:only-of-type {\n        vertical-align: middle;\n    }\n\n    .dataframe tbody tr th {\n        vertical-align: top;\n    }\n\n    .dataframe thead th {\n        text-align: right;\n    }\n</style>\n<table border=\"1\" class=\"dataframe\">\n  <thead>\n    <tr style=\"text-align: right;\">\n      <th></th>\n      <th>text</th>\n      <th>sentiment</th>\n    </tr>\n  </thead>\n  <tbody>\n    <tr>\n      <th>0</th>\n      <td>[rising, of, covid, does, not, alarm, me, risi...</td>\n      <td>1.0</td>\n    </tr>\n    <tr>\n      <th>1</th>\n      <td>[please, vote, for, marking, independence, of,...</td>\n      <td>0.0</td>\n    </tr>\n    <tr>\n      <th>2</th>\n      <td>[wishing, all, of, you, as, sab, ko, in, most,...</td>\n      <td>1.0</td>\n    </tr>\n    <tr>\n      <th>3</th>\n      <td>[daily, in, top, for, first, time, covid]</td>\n      <td>1.0</td>\n    </tr>\n    <tr>\n      <th>4</th>\n      <td>[sitting, here, style, watching, the, hit, thi...</td>\n      <td>0.0</td>\n    </tr>\n    <tr>\n      <th>...</th>\n      <td>...</td>\n      <td>...</td>\n    </tr>\n    <tr>\n      <th>133319</th>\n      <td>[to, from, and, your, real, face, been, expose...</td>\n      <td>1.0</td>\n    </tr>\n    <tr>\n      <th>133320</th>\n      <td>[been, involved, in, many, with, there, terror...</td>\n      <td>1.0</td>\n    </tr>\n    <tr>\n      <th>133321</th>\n      <td>[does, anybody, know, which, order, season, to]</td>\n      <td>0.0</td>\n    </tr>\n    <tr>\n      <th>133322</th>\n      <td>[what, few, back, in, an, interview, with, tod...</td>\n      <td>0.0</td>\n    </tr>\n    <tr>\n      <th>133323</th>\n      <td>[this, is, just, slice, of, what, we, have, na...</td>\n      <td>0.0</td>\n    </tr>\n  </tbody>\n</table>\n<p>133324 rows × 2 columns</p>\n</div>"
          },
          "metadata": {}
        }
      ]
    },
    {
      "cell_type": "code",
      "source": [
        "porter=nltk.PorterStemmer()\n",
        "df['text']=df['text'].apply(lambda x:[porter.stem(y) for y in x])\n",
        "df['text']=df['text'].apply(lambda x:' '.join(x))\n",
        "display(df)"
      ],
      "metadata": {
        "execution": {
          "iopub.status.busy": "2024-05-12T12:56:44.487457Z",
          "iopub.execute_input": "2024-05-12T12:56:44.487833Z",
          "iopub.status.idle": "2024-05-12T12:58:00.290349Z",
          "shell.execute_reply.started": "2024-05-12T12:56:44.487798Z",
          "shell.execute_reply": "2024-05-12T12:58:00.289431Z"
        },
        "trusted": true,
        "id": "sXBpdVfNg6Oj",
        "outputId": "69b010c0-e6be-49d9-94ec-f009b4554eeb"
      },
      "execution_count": null,
      "outputs": [
        {
          "output_type": "display_data",
          "data": {
            "text/plain": "                                                     text  sentiment\n0       rise of covid doe not alarm me rise death rate...        1.0\n1       pleas vote for mark independ of democraci huma...        0.0\n2                    wish all of you as sab ko in most of        1.0\n3                       daili in top for first time covid        1.0\n4       sit here style watch the hit thi big ass pond ...        0.0\n...                                                   ...        ...\n133319        to from and your real face been expos today        1.0\n133320  been involv in mani with there terror grow but...        1.0\n133321             doe anybodi know which order season to        0.0\n133322  what few back in an interview with today and w...        0.0\n133323  thi is just slice of what we have nation secur...        0.0\n\n[133324 rows x 2 columns]",
            "text/html": "<div>\n<style scoped>\n    .dataframe tbody tr th:only-of-type {\n        vertical-align: middle;\n    }\n\n    .dataframe tbody tr th {\n        vertical-align: top;\n    }\n\n    .dataframe thead th {\n        text-align: right;\n    }\n</style>\n<table border=\"1\" class=\"dataframe\">\n  <thead>\n    <tr style=\"text-align: right;\">\n      <th></th>\n      <th>text</th>\n      <th>sentiment</th>\n    </tr>\n  </thead>\n  <tbody>\n    <tr>\n      <th>0</th>\n      <td>rise of covid doe not alarm me rise death rate...</td>\n      <td>1.0</td>\n    </tr>\n    <tr>\n      <th>1</th>\n      <td>pleas vote for mark independ of democraci huma...</td>\n      <td>0.0</td>\n    </tr>\n    <tr>\n      <th>2</th>\n      <td>wish all of you as sab ko in most of</td>\n      <td>1.0</td>\n    </tr>\n    <tr>\n      <th>3</th>\n      <td>daili in top for first time covid</td>\n      <td>1.0</td>\n    </tr>\n    <tr>\n      <th>4</th>\n      <td>sit here style watch the hit thi big ass pond ...</td>\n      <td>0.0</td>\n    </tr>\n    <tr>\n      <th>...</th>\n      <td>...</td>\n      <td>...</td>\n    </tr>\n    <tr>\n      <th>133319</th>\n      <td>to from and your real face been expos today</td>\n      <td>1.0</td>\n    </tr>\n    <tr>\n      <th>133320</th>\n      <td>been involv in mani with there terror grow but...</td>\n      <td>1.0</td>\n    </tr>\n    <tr>\n      <th>133321</th>\n      <td>doe anybodi know which order season to</td>\n      <td>0.0</td>\n    </tr>\n    <tr>\n      <th>133322</th>\n      <td>what few back in an interview with today and w...</td>\n      <td>0.0</td>\n    </tr>\n    <tr>\n      <th>133323</th>\n      <td>thi is just slice of what we have nation secur...</td>\n      <td>0.0</td>\n    </tr>\n  </tbody>\n</table>\n<p>133324 rows × 2 columns</p>\n</div>"
          },
          "metadata": {}
        }
      ]
    },
    {
      "cell_type": "code",
      "source": [
        "y=list(df['sentiment'].astype(int).values)\n",
        "print(y[:10])\n",
        "texts=list(df['text'].values)\n",
        "display(texts[:10])"
      ],
      "metadata": {
        "execution": {
          "iopub.status.busy": "2024-05-12T12:58:00.291987Z",
          "iopub.execute_input": "2024-05-12T12:58:00.292382Z",
          "iopub.status.idle": "2024-05-12T12:58:00.316468Z",
          "shell.execute_reply.started": "2024-05-12T12:58:00.292348Z",
          "shell.execute_reply": "2024-05-12T12:58:00.315566Z"
        },
        "trusted": true,
        "id": "mCrWvpfvg6Oj",
        "outputId": "b4d73eee-bae7-4ecc-c52f-290c19fc17f8"
      },
      "execution_count": null,
      "outputs": [
        {
          "name": "stdout",
          "text": "[1, 0, 1, 1, 0, 1, 1, 0, 1, 1]\n",
          "output_type": "stream"
        },
        {
          "output_type": "display_data",
          "data": {
            "text/plain": "['rise of covid doe not alarm me rise death rate doe more test capac more are and and mild are is in scari place go check out their',\n 'pleas vote for mark independ of democraci human secular',\n 'wish all of you as sab ko in most of',\n 'daili in top for first time covid',\n 'sit here style watch the hit thi big ass pond listen to ami winehous understand what wa talk about',\n 'who out there that if china and had the same natur avail to them as',\n 'veri happi with the new educ polici implement in educ is the basi of ani countri progress kudo nep',\n 'develop partnership doe not come with',\n 'prime minist how the new educ polici will succeed thi is possibl onli when the basic contractu teacher is mental healthi that is whi pay attent to their safe futur and fair salari thank you',\n 'look forward to the implement of the new educ polici that to build strong and resili blend learn is the futur to']"
          },
          "metadata": {}
        }
      ]
    },
    {
      "cell_type": "code",
      "source": [
        "names=['depressive','non-depressive']"
      ],
      "metadata": {
        "execution": {
          "iopub.status.busy": "2024-05-12T12:58:00.317658Z",
          "iopub.execute_input": "2024-05-12T12:58:00.317955Z",
          "iopub.status.idle": "2024-05-12T12:58:00.322504Z",
          "shell.execute_reply.started": "2024-05-12T12:58:00.317931Z",
          "shell.execute_reply": "2024-05-12T12:58:00.321579Z"
        },
        "trusted": true,
        "id": "eZthETBtg6Ok"
      },
      "execution_count": null,
      "outputs": []
    },
    {
      "cell_type": "code",
      "source": [
        "texts,tests_,y,y_=train_test_split(texts,y,train_size=0.5,random_state=1)\n",
        "print(f'Number of samples:{len(texts)}')"
      ],
      "metadata": {
        "execution": {
          "iopub.status.busy": "2024-05-12T12:58:00.323824Z",
          "iopub.execute_input": "2024-05-12T12:58:00.324239Z",
          "iopub.status.idle": "2024-05-12T12:58:00.416494Z",
          "shell.execute_reply.started": "2024-05-12T12:58:00.324209Z",
          "shell.execute_reply": "2024-05-12T12:58:00.415375Z"
        },
        "trusted": true,
        "id": "fokep-G3g6Ol",
        "outputId": "36bf1523-1cdc-435d-e278-ceead0a8178e"
      },
      "execution_count": null,
      "outputs": [
        {
          "name": "stdout",
          "text": "Number of samples:66662\n",
          "output_type": "stream"
        }
      ]
    },
    {
      "cell_type": "code",
      "source": [
        "texts_train,texts_test,y_train,y_test=train_test_split(texts,y,train_size=0.75,random_state=1)\n",
        "texts_val,texts_test,y_val,y_test=train_test_split(texts_test,y_test,test_size=0.5,random_state=1)\n",
        "print(len(texts_train))\n",
        "print(len(texts_test))\n",
        "print(len(texts_val))"
      ],
      "metadata": {
        "execution": {
          "iopub.status.busy": "2024-05-12T12:58:00.417500Z",
          "iopub.execute_input": "2024-05-12T12:58:00.417760Z",
          "iopub.status.idle": "2024-05-12T12:58:00.470092Z",
          "shell.execute_reply.started": "2024-05-12T12:58:00.417738Z",
          "shell.execute_reply": "2024-05-12T12:58:00.469134Z"
        },
        "trusted": true,
        "id": "xByEyKoMg6Ol",
        "outputId": "6d591eec-7c10-4334-c6aa-d74df77fb36d"
      },
      "execution_count": null,
      "outputs": [
        {
          "name": "stdout",
          "text": "49996\n8333\n8333\n",
          "output_type": "stream"
        }
      ]
    },
    {
      "cell_type": "code",
      "source": [
        "ngram_range=[(1,1),(2,2)]\n",
        "max_df=[1.0,0.8]\n",
        "min_df=[1,2]\n",
        "stop_words=['english',None]\n",
        "grid_params={'countvectorizer__ngram_range':ngram_range,'countvectorizer__max_df':max_df,'countvectorizer__min_df':min_df,'countvectorizer__stop_words':stop_words}\n",
        "grid=GridSearchCV(param_grid=grid_params,estimator=make_pipeline(CountVectorizer(),LogisticRegression(max_iter=10,tol=1e-2)),scoring='accuracy')\n",
        "grid.fit(texts_val,y_val)\n",
        "print(f'Best Score:{grid.best_score_}')\n",
        "print(f'Best Parameters:{grid.best_params_}')"
      ],
      "metadata": {
        "execution": {
          "iopub.status.busy": "2024-05-12T12:58:00.471289Z",
          "iopub.execute_input": "2024-05-12T12:58:00.471591Z",
          "iopub.status.idle": "2024-05-12T12:58:35.460475Z",
          "shell.execute_reply.started": "2024-05-12T12:58:00.471558Z",
          "shell.execute_reply": "2024-05-12T12:58:35.459619Z"
        },
        "trusted": true,
        "id": "JEcjX8A6g6Ol",
        "outputId": "ffcc75ca-94a8-41b1-9ff7-26e291206e80"
      },
      "execution_count": null,
      "outputs": [
        {
          "name": "stdout",
          "text": "Best Score:0.8352333374861644\nBest Parameters:{'countvectorizer__max_df': 1.0, 'countvectorizer__min_df': 2, 'countvectorizer__ngram_range': (1, 1), 'countvectorizer__stop_words': None}\n",
          "output_type": "stream"
        }
      ]
    },
    {
      "cell_type": "code",
      "source": [
        "count=CountVectorizer(max_df=1.0,min_df=2,ngram_range=(1,1),stop_words=None)\n",
        "X_train=count.fit_transform(texts_train).toarray()\n",
        "X_test=count.transform(texts_test).toarray()\n",
        "print(f'Number of features:{X_train.shape[1]}')\n",
        "model=LogisticRegression(max_iter=10,tol=1e-2)\n",
        "model.fit(X_train,y_train)\n",
        "print(f'Train accuracy:{accuracy_score(y_train,model.predict(X_train))}')\n",
        "print(f'Test accuracy:{accuracy_score(y_test,model.predict(X_test))}')\n",
        "cm=confusion_matrix(y_test,model.predict(X_test))\n",
        "sns.heatmap(cm,cmap='Reds',annot=True,fmt='d',xticklabels=names,yticklabels=names)\n",
        "plt.show()"
      ],
      "metadata": {
        "execution": {
          "iopub.status.busy": "2024-05-12T12:58:35.461804Z",
          "iopub.execute_input": "2024-05-12T12:58:35.462570Z",
          "iopub.status.idle": "2024-05-12T12:58:46.377552Z",
          "shell.execute_reply.started": "2024-05-12T12:58:35.462528Z",
          "shell.execute_reply": "2024-05-12T12:58:46.376545Z"
        },
        "trusted": true,
        "id": "Xx_aOD8-g6Om",
        "outputId": "351dd04b-260c-4453-cf70-c0f355537a2e"
      },
      "execution_count": null,
      "outputs": [
        {
          "name": "stdout",
          "text": "Number of features:9079\nTrain accuracy:0.8656892551404113\nTest accuracy:0.8576743069722789\n",
          "output_type": "stream"
        },
        {
          "output_type": "display_data",
          "data": {
            "text/plain": "<Figure size 640x480 with 2 Axes>",
            "image/png": "[encoded data removed]"
          },
          "metadata": {}
        }
      ]
    },
    {
      "cell_type": "code",
      "source": [
        "ngram_range=[(1,1),(2,2)]\n",
        "max_df=[1.0,0.8]\n",
        "min_df=[1,2]\n",
        "stop_words=['english',None]\n",
        "grid_params={'tfidfvectorizer__ngram_range':ngram_range,'tfidfvectorizer__max_df':max_df,'tfidfvectorizer__min_df':min_df,'tfidfvectorizer__stop_words':stop_words}\n",
        "grid=GridSearchCV(estimator=make_pipeline(TfidfVectorizer(),LogisticRegression(max_iter=10,tol=1e-2)),param_grid=grid_params,scoring='accuracy')\n",
        "grid.fit(texts_val,y_val)\n",
        "print(f'Best Score:{grid.best_score_}')\n",
        "print(f'Best Parameters:{grid.best_params_}')"
      ],
      "metadata": {
        "execution": {
          "iopub.status.busy": "2024-05-12T12:58:46.378966Z",
          "iopub.execute_input": "2024-05-12T12:58:46.379562Z",
          "iopub.status.idle": "2024-05-12T12:59:23.617533Z",
          "shell.execute_reply.started": "2024-05-12T12:58:46.379530Z",
          "shell.execute_reply": "2024-05-12T12:59:23.616447Z"
        },
        "trusted": true,
        "id": "aMePS47Wg6Om",
        "outputId": "819d6595-3898-436a-bbcd-ca60caab9d58"
      },
      "execution_count": null,
      "outputs": [
        {
          "name": "stdout",
          "text": "Best Score:0.8425534580958958\nBest Parameters:{'tfidfvectorizer__max_df': 1.0, 'tfidfvectorizer__min_df': 1, 'tfidfvectorizer__ngram_range': (1, 1), 'tfidfvectorizer__stop_words': None}\n",
          "output_type": "stream"
        }
      ]
    },
    {
      "cell_type": "code",
      "source": [
        "tfidf=TfidfVectorizer(max_df=1.0,min_df=1,ngram_range=(1,1),stop_words=None)\n",
        "X_train=tfidf.fit_transform(texts_train).toarray()\n",
        "X_test=tfidf.transform(texts_test).toarray()\n",
        "print(f'Number of features:{X_train.shape[1]}')\n",
        "model=LogisticRegression(max_iter=10,tol=1e-2)\n",
        "model.fit(X_train,y_train)\n",
        "print(f'Train accuracy:{accuracy_score(y_train,model.predict(X_train))}')\n",
        "print(f'Test accuracy:{accuracy_score(y_test,model.predict(X_test))}')\n",
        "cm=confusion_matrix(y_test,model.predict(X_test))\n",
        "sns.heatmap(cm,cmap='Reds',annot=True,fmt='d',xticklabels=names,yticklabels=names)\n",
        "plt.show()"
      ],
      "metadata": {
        "execution": {
          "iopub.status.busy": "2024-05-12T12:59:23.618859Z",
          "iopub.execute_input": "2024-05-12T12:59:23.619189Z",
          "iopub.status.idle": "2024-05-12T12:59:34.849756Z",
          "shell.execute_reply.started": "2024-05-12T12:59:23.619163Z",
          "shell.execute_reply": "2024-05-12T12:59:34.848867Z"
        },
        "trusted": true,
        "id": "_uAy1C2wg6Om",
        "outputId": "9e085690-ecc2-470b-fc6a-031afbc59b8a"
      },
      "execution_count": null,
      "outputs": [
        {
          "name": "stdout",
          "text": "Number of features:13001\nTrain accuracy:0.8995719657572606\nTest accuracy:0.8832353294131765\n",
          "output_type": "stream"
        },
        {
          "output_type": "display_data",
          "data": {
            "text/plain": "<Figure size 640x480 with 2 Axes>",
            "image/png": "[encoded data removed]"
          },
          "metadata": {}
        }
      ]
    },
    {
      "cell_type": "code",
      "source": [
        "ngram_range=[(1,1),(2,2)]\n",
        "stop_words=['english',None]\n",
        "n_features=[2**i for i in range(12,15)]\n",
        "grid_params={'hashingvectorizer__ngram_range':ngram_range,'hashingvectorizer__n_features':n_features,'hashingvectorizer__stop_words':stop_words}\n",
        "grid=GridSearchCV(estimator=make_pipeline(HashingVectorizer(),LogisticRegression(max_iter=10)),param_grid=grid_params,scoring='accuracy')\n",
        "grid.fit(texts_val,y_val)\n",
        "print(f'Best Score:{grid.best_score_}')\n",
        "print(f'Best Parameters:{grid.best_params_}')"
      ],
      "metadata": {
        "execution": {
          "iopub.status.busy": "2024-05-12T12:59:34.850929Z",
          "iopub.execute_input": "2024-05-12T12:59:34.851231Z",
          "iopub.status.idle": "2024-05-12T12:59:53.650314Z",
          "shell.execute_reply.started": "2024-05-12T12:59:34.851206Z",
          "shell.execute_reply": "2024-05-12T12:59:53.648957Z"
        },
        "trusted": true,
        "id": "QHwWfiBDg6On",
        "outputId": "5ad4d2c3-9836-4625-d8b8-8f635c1df00d"
      },
      "execution_count": null,
      "outputs": [
        {
          "name": "stdout",
          "text": "Best Score:0.8231122322954377\nBest Parameters:{'hashingvectorizer__n_features': 16384, 'hashingvectorizer__ngram_range': (1, 1), 'hashingvectorizer__stop_words': None}\n",
          "output_type": "stream"
        }
      ]
    },
    {
      "cell_type": "code",
      "source": [
        "hashing=HashingVectorizer(n_features=16384,ngram_range=(1,1),stop_words=None)\n",
        "X_train=hashing.fit_transform(texts_train).toarray()\n",
        "X_test=hashing.transform(texts_test).toarray()\n",
        "print(f'Number of features:{X_train.shape[1]}')\n",
        "model=LogisticRegression(max_iter=10,tol=1e-2)\n",
        "model.fit(X_train,y_train)\n",
        "print(f'Train accuracy:{accuracy_score(y_train,model.predict(X_train))}')\n",
        "print(f'Test accuracy:{accuracy_score(y_test,model.predict(X_test))}')\n",
        "cm=confusion_matrix(y_test,model.predict(X_test))\n",
        "sns.heatmap(cm,cmap='Reds',annot=True,fmt='d',xticklabels=names,yticklabels=names)\n",
        "plt.show()"
      ],
      "metadata": {
        "execution": {
          "iopub.status.busy": "2024-05-12T12:59:53.652213Z",
          "iopub.execute_input": "2024-05-12T12:59:53.652911Z",
          "iopub.status.idle": "2024-05-12T13:00:06.385062Z",
          "shell.execute_reply.started": "2024-05-12T12:59:53.652867Z",
          "shell.execute_reply": "2024-05-12T13:00:06.384131Z"
        },
        "trusted": true,
        "id": "XUHUc4kng6On",
        "outputId": "380f2b1f-3069-4900-f7d0-edefbe26bdb5"
      },
      "execution_count": null,
      "outputs": [
        {
          "name": "stdout",
          "text": "Number of features:16384\nTrain accuracy:0.8637490999279942\nTest accuracy:0.8553942157686307\n",
          "output_type": "stream"
        },
        {
          "output_type": "display_data",
          "data": {
            "text/plain": "<Figure size 640x480 with 2 Axes>",
            "image/png": "[encoded data removed]"
          },
          "metadata": {}
        }
      ]
    },
    {
      "cell_type": "markdown",
      "source": [
        "# **Topic Modeling**"
      ],
      "metadata": {
        "id": "JrJCBeYig6Oo"
      }
    },
    {
      "cell_type": "markdown",
      "source": [
        "## **2 Topics**"
      ],
      "metadata": {
        "id": "_FY1awlPg6Oo"
      }
    },
    {
      "cell_type": "markdown",
      "source": [
        "### **Batch**"
      ],
      "metadata": {
        "id": "SMp_8qdRg6Op"
      }
    },
    {
      "cell_type": "code",
      "source": [
        "count=CountVectorizer(max_df=0.1,max_features=5000,stop_words='english')\n",
        "X=count.fit_transform(texts)\n",
        "X=X.toarray()\n",
        "LDA=LatentDirichletAllocation(n_components=2,random_state=1,learning_method='batch')\n",
        "X_topics=LDA.fit_transform(X)\n",
        "n_top_words=10\n",
        "feature_names=count.get_feature_names_out()\n",
        "for topic_idx,topic in enumerate(LDA.components_):\n",
        "    print(\"Topic %d:\"%(topic_idx + 1))\n",
        "    print(\" \".join([feature_names[i]\n",
        "                    for i in topic.argsort()\\\n",
        "                        [:-n_top_words-1:-1]]))"
      ],
      "metadata": {
        "execution": {
          "iopub.status.busy": "2024-05-12T13:00:06.386343Z",
          "iopub.execute_input": "2024-05-12T13:00:06.386692Z",
          "iopub.status.idle": "2024-05-12T13:04:00.932158Z",
          "shell.execute_reply.started": "2024-05-12T13:00:06.386661Z",
          "shell.execute_reply": "2024-05-12T13:04:00.931147Z"
        },
        "trusted": true,
        "id": "YqWvkPeKg6Op",
        "outputId": "7e3e16d0-c3d7-4635-f15f-7e18462268e7"
      },
      "execution_count": null,
      "outputs": [
        {
          "name": "stdout",
          "text": "Topic 1:\nwa like peopl hi nice money need job whi new\nTopic 2:\nlove sad day broken time health feel peopl anger like\n",
          "output_type": "stream"
        }
      ]
    },
    {
      "cell_type": "markdown",
      "source": [
        "* Topic 1: More-less positive tweets.\n",
        "* Topic 2: Generally depressed/negative tweets.\n"
      ],
      "metadata": {
        "id": "jbfMECbrgeCU"
      }
    },
    {
      "cell_type": "markdown",
      "source": [
        "### **Online**"
      ],
      "metadata": {
        "id": "RgZ4wqctg6Op"
      }
    },
    {
      "cell_type": "code",
      "source": [
        "count=CountVectorizer(max_df=0.1,max_features=5000,stop_words='english')\n",
        "X=count.fit_transform(texts)\n",
        "X=X.toarray()\n",
        "LDA=LatentDirichletAllocation(n_components=2,random_state=1,learning_method='online')\n",
        "X_topics=LDA.fit_transform(X)\n",
        "n_top_words=10\n",
        "feature_names=count.get_feature_names_out()\n",
        "for topic_idx,topic in enumerate(LDA.components_):\n",
        "    print(\"Topic %d:\"%(topic_idx + 1))\n",
        "    print(\" \".join([feature_names[i]\n",
        "                    for i in topic.argsort()\\\n",
        "                        [:-n_top_words-1:-1]]))"
      ],
      "metadata": {
        "execution": {
          "iopub.status.busy": "2024-05-12T13:04:00.933447Z",
          "iopub.execute_input": "2024-05-12T13:04:00.933833Z",
          "iopub.status.idle": "2024-05-12T13:06:02.952663Z",
          "shell.execute_reply.started": "2024-05-12T13:04:00.933797Z",
          "shell.execute_reply": "2024-05-12T13:06:02.951734Z"
        },
        "trusted": true,
        "id": "eyERJRJCg6Op",
        "outputId": "8f37ce60-0cf3-49b0-caf0-21b49fa0d1df"
      },
      "execution_count": null,
      "outputs": [
        {
          "name": "stdout",
          "text": "Topic 1:\nlike wa sad love broken peopl feel know mental time\nTopic 2:\nmoney diseas health new peopl death day world covid educ\n",
          "output_type": "stream"
        }
      ]
    },
    {
      "cell_type": "markdown",
      "source": [
        "* Topic 1: Tweets about mental state.\n",
        "* Topic 2: Tweets about real-world problems."
      ],
      "metadata": {
        "id": "A7NrZ7kYhOwV"
      }
    },
    {
      "cell_type": "markdown",
      "source": [
        "## **3 Topics**"
      ],
      "metadata": {
        "id": "4K3a0_u5g6Op"
      }
    },
    {
      "cell_type": "markdown",
      "source": [
        "### **Batch**"
      ],
      "metadata": {
        "id": "Ipvbplghg6Oq"
      }
    },
    {
      "cell_type": "code",
      "source": [
        "count=CountVectorizer(max_df=0.1,max_features=5000,stop_words='english')\n",
        "X=count.fit_transform(texts)\n",
        "X=X.toarray()\n",
        "LDA=LatentDirichletAllocation(n_components=3,random_state=1,learning_method='batch')\n",
        "X_topics=LDA.fit_transform(X)\n",
        "n_top_words=10\n",
        "feature_names=count.get_feature_names_out()\n",
        "for topic_idx,topic in enumerate(LDA.components_):\n",
        "    print(\"Topic %d:\"%(topic_idx + 1))\n",
        "    print(\" \".join([feature_names[i]\n",
        "                    for i in topic.argsort()\\\n",
        "                        [:-n_top_words-1:-1]]))"
      ],
      "metadata": {
        "execution": {
          "iopub.status.busy": "2024-05-12T13:06:02.953900Z",
          "iopub.execute_input": "2024-05-12T13:06:02.954239Z",
          "iopub.status.idle": "2024-05-12T13:10:20.650076Z",
          "shell.execute_reply.started": "2024-05-12T13:06:02.954213Z",
          "shell.execute_reply": "2024-05-12T13:10:20.649022Z"
        },
        "trusted": true,
        "id": "KR456aGFg6Oq",
        "outputId": "7dbff5be-97cf-45cf-e71a-1202e9899e40"
      },
      "execution_count": null,
      "outputs": [
        {
          "name": "stdout",
          "text": "Topic 1:\nwa like hi nice job aw damag realli think veri\nTopic 2:\nlove sad day broken time feel like anger na alon\nTopic 3:\npeopl health diseas death blame money whi mental pleas want\n",
          "output_type": "stream"
        }
      ]
    },
    {
      "cell_type": "markdown",
      "source": [
        "* Topic 1: ???\n",
        "* Topic 2: Tweets about mental state.\n",
        "* Topic 3: Tweets about disese(diseases)."
      ],
      "metadata": {
        "id": "ZRjsZc18ijrV"
      }
    },
    {
      "cell_type": "markdown",
      "source": [
        "### **Online**"
      ],
      "metadata": {
        "id": "a6wrTz-Ug6Oq"
      }
    },
    {
      "cell_type": "code",
      "source": [
        "count=CountVectorizer(max_df=0.1,max_features=5000,stop_words='english')\n",
        "X=count.fit_transform(texts)\n",
        "X=X.toarray()\n",
        "LDA=LatentDirichletAllocation(n_components=3,random_state=1,learning_method='online')\n",
        "X_topics=LDA.fit_transform(X)\n",
        "n_top_words=10\n",
        "feature_names=count.get_feature_names_out()\n",
        "for topic_idx,topic in enumerate(LDA.components_):\n",
        "    print(\"Topic %d:\"%(topic_idx + 1))\n",
        "    print(\" \".join([feature_names[i]\n",
        "                    for i in topic.argsort()\\\n",
        "                        [:-n_top_words-1:-1]]))"
      ],
      "metadata": {
        "execution": {
          "iopub.status.busy": "2024-05-12T13:10:20.651351Z",
          "iopub.execute_input": "2024-05-12T13:10:20.651670Z",
          "iopub.status.idle": "2024-05-12T13:12:27.460788Z",
          "shell.execute_reply.started": "2024-05-12T13:10:20.651646Z",
          "shell.execute_reply": "2024-05-12T13:12:27.459927Z"
        },
        "trusted": true,
        "id": "qSoP7o8Ng6Oq",
        "outputId": "fb7012f2-85ce-407a-e0e8-f93606b29bd6"
      },
      "execution_count": null,
      "outputs": [
        {
          "name": "stdout",
          "text": "Topic 1:\nlike peopl wa mental blame want nice alon know think\nTopic 2:\nlove sad wa broken day anger good feel time happi\nTopic 3:\ndiseas health new peopl death world covid educ thank onli\n",
          "output_type": "stream"
        }
      ]
    },
    {
      "cell_type": "markdown",
      "source": [
        "* Topic 1: ???\n",
        "* Topic 2: Tweets about mental state.\n",
        "* Topic 3: Tweets about COVID-19."
      ],
      "metadata": {
        "id": "ltLCfuDGkHBT"
      }
    },
    {
      "cell_type": "markdown",
      "source": [
        "## **5 Topics**"
      ],
      "metadata": {
        "id": "hq7T_p9Og6Oq"
      }
    },
    {
      "cell_type": "markdown",
      "source": [
        "### **Batch**"
      ],
      "metadata": {
        "id": "Gr7m3BYWg6Oq"
      }
    },
    {
      "cell_type": "code",
      "source": [
        "count=CountVectorizer(max_df=0.1,max_features=5000,stop_words='english')\n",
        "X=count.fit_transform(texts)\n",
        "X=X.toarray()\n",
        "LDA=LatentDirichletAllocation(n_components=5,random_state=1,learning_method='batch')\n",
        "X_topics=LDA.fit_transform(X)\n",
        "n_top_words=10\n",
        "feature_names=count.get_feature_names_out()\n",
        "for topic_idx,topic in enumerate(LDA.components_):\n",
        "    print(\"Topic %d:\"%(topic_idx + 1))\n",
        "    print(\" \".join([feature_names[i]\n",
        "                    for i in topic.argsort()\\\n",
        "                        [:-n_top_words-1:-1]]))"
      ],
      "metadata": {
        "execution": {
          "iopub.status.busy": "2024-05-12T13:12:27.463821Z",
          "iopub.execute_input": "2024-05-12T13:12:27.464123Z",
          "iopub.status.idle": "2024-05-12T13:16:19.464710Z",
          "shell.execute_reply.started": "2024-05-12T13:12:27.464099Z",
          "shell.execute_reply": "2024-05-12T13:16:19.463795Z"
        },
        "trusted": true,
        "id": "4y0clpURg6Oq",
        "outputId": "9d0344ec-4ab2-4189-c858-f3fbd3a45498"
      },
      "execution_count": null,
      "outputs": [
        {
          "name": "stdout",
          "text": "Topic 1:\nwa like aw damag hi did blame peopl think horribl\nTopic 2:\nsad day broken time anger feel alon heart life difficult\nTopic 3:\npeopl pleas diseas help whi need want death ani blame\nTopic 4:\nhealth mental money na new job educ peopl diseas alcohol\nTopic 5:\nlove like nice hi person good peopl funni veri don\n",
          "output_type": "stream"
        }
      ]
    },
    {
      "cell_type": "markdown",
      "source": [
        "* Topic 1: ???\n",
        "* Topic 2: Generally depressed tweets.\n",
        "* Topic 3: Tweets about disease(diseases).\n",
        "* Topic 4: Tweets about real-world problems.\n",
        "* Topic 5: Positive/Non-depressed tweets."
      ],
      "metadata": {
        "id": "6p6mMspukagG"
      }
    },
    {
      "cell_type": "markdown",
      "source": [
        "### **Online**"
      ],
      "metadata": {
        "id": "n-DkLdDqg6Or"
      }
    },
    {
      "cell_type": "code",
      "source": [
        "count=CountVectorizer(max_df=0.1,max_features=5000,stop_words='english')\n",
        "X=count.fit_transform(texts)\n",
        "X=X.toarray()\n",
        "LDA=LatentDirichletAllocation(n_components=5,random_state=1,learning_method='online')\n",
        "X_topics=LDA.fit_transform(X)\n",
        "n_top_words=10\n",
        "feature_names=count.get_feature_names_out()\n",
        "for topic_idx,topic in enumerate(LDA.components_):\n",
        "    print(\"Topic %d:\"%(topic_idx + 1))\n",
        "    print(\" \".join([feature_names[i]\n",
        "                    for i in topic.argsort()\\\n",
        "                        [:-n_top_words-1:-1]]))"
      ],
      "metadata": {
        "execution": {
          "iopub.status.busy": "2024-05-12T13:16:19.466440Z",
          "iopub.execute_input": "2024-05-12T13:16:19.466830Z",
          "iopub.status.idle": "2024-05-12T13:18:28.029264Z",
          "shell.execute_reply.started": "2024-05-12T13:16:19.466796Z",
          "shell.execute_reply": "2024-05-12T13:18:28.028330Z"
        },
        "trusted": true,
        "id": "cS9ATjYbg6Or",
        "outputId": "13a522c9-377b-440a-fdf9-e9bd1c2f75b0"
      },
      "execution_count": null,
      "outputs": [
        {
          "name": "stdout",
          "text": "Topic 1:\nmoney make job stop need want work talk whi peopl\nTopic 2:\nwa hi time said countri onli famili start make year\nTopic 3:\ndiseas day health world covid death thank today hope great\nTopic 4:\nmental time alon wa blame like health got aw peopl\nTopic 5:\nlove sad like feel anger peopl nice broken person realli\n",
          "output_type": "stream"
        }
      ]
    },
    {
      "cell_type": "markdown",
      "source": [
        "* Topic 1: Tweets about job.\n",
        "* Topic 2: ???\n",
        "* Topic 3: Tweets about COVID-19.\n",
        "* Topic 4: Generally depressed tweets (1)?\n",
        "* Topic 5: Generally depressed tweets (2)?"
      ],
      "metadata": {
        "id": "snI-HVTclwzS"
      }
    },
    {
      "cell_type": "markdown",
      "source": [
        "## **10 Topics**"
      ],
      "metadata": {
        "id": "j5Lskbfcg6Or"
      }
    },
    {
      "cell_type": "markdown",
      "source": [
        "### **Batch**"
      ],
      "metadata": {
        "id": "Irx0UR2Ng6Or"
      }
    },
    {
      "cell_type": "code",
      "source": [
        "count=CountVectorizer(max_df=0.1,max_features=5000,stop_words='english')\n",
        "X=count.fit_transform(texts)\n",
        "X=X.toarray()\n",
        "LDA=LatentDirichletAllocation(n_components=10,random_state=1,learning_method='batch')\n",
        "X_topics=LDA.fit_transform(X)\n",
        "n_top_words=10\n",
        "feature_names=count.get_feature_names_out()\n",
        "for topic_idx,topic in enumerate(LDA.components_):\n",
        "    print(\"Topic %d:\"%(topic_idx + 1))\n",
        "    print(\" \".join([feature_names[i]\n",
        "                    for i in topic.argsort()\\\n",
        "                        [:-n_top_words-1:-1]]))"
      ],
      "metadata": {
        "execution": {
          "iopub.status.busy": "2024-05-12T13:18:28.030680Z",
          "iopub.execute_input": "2024-05-12T13:18:28.031329Z",
          "iopub.status.idle": "2024-05-12T13:21:50.308135Z",
          "shell.execute_reply.started": "2024-05-12T13:18:28.031295Z",
          "shell.execute_reply": "2024-05-12T13:21:50.307043Z"
        },
        "trusted": true,
        "id": "uANsfXgug6Or",
        "outputId": "49ce3ab7-007f-44fd-96d6-9770c99f2304"
      },
      "execution_count": null,
      "outputs": [
        {
          "name": "stdout",
          "text": "Topic 1:\nwa hi brilliant game team girl watch like year damag\nTopic 2:\nday today happi funni time good hope love product life\nTopic 3:\npleas thank want kind amaz whi help ani peopl god\nTopic 4:\nmoney na got gon like job wan broken make time\nTopic 5:\nlove like feel nice good look super pride perfect kind\nTopic 6:\ndiseas covid health death job countri china peopl vaccin govern\nTopic 7:\naw peopl wa horribl realli becaus black whi polic like\nTopic 8:\nnice new educ veri hi school person uniqu pay understand\nTopic 9:\nsad broken anger wa feel like death heart blame depress\nTopic 10:\npeopl mental health difficult alcohol blame anxieti damag alon like\n",
          "output_type": "stream"
        }
      ]
    },
    {
      "cell_type": "markdown",
      "source": [
        "* Topic  1: Tweets about sport.\n",
        "* Topic  2: Generally positive tweets (1)?\n",
        "* Topic  3: Tweets about gratitude/pleading.\n",
        "* Topic  4: Tweets about job.\n",
        "* Topic  5: Generally positive tweets (2)?\n",
        "* Topic  6: Tweets about COVID-19.\n",
        "* Topic  7: Tweets about crime.\n",
        "* Topic  8: Tweets about education(educational place).\n",
        "* Topic  9: Generally depressed tweets (1)?\n",
        "* Topic 10: Generally depressed tweets (2)?"
      ],
      "metadata": {
        "id": "i8plHxAGmcWj"
      }
    },
    {
      "cell_type": "markdown",
      "source": [
        "### **Online**"
      ],
      "metadata": {
        "id": "Mib4zmmNg6Os"
      }
    },
    {
      "cell_type": "code",
      "source": [
        "count=CountVectorizer(max_df=0.1,max_features=5000,stop_words='english')\n",
        "X=count.fit_transform(texts)\n",
        "X=X.toarray()\n",
        "LDA=LatentDirichletAllocation(n_components=10,random_state=1,learning_method='online')\n",
        "X_topics=LDA.fit_transform(X)\n",
        "n_top_words=10\n",
        "feature_names=count.get_feature_names_out()\n",
        "for topic_idx,topic in enumerate(LDA.components_):\n",
        "    print(\"Topic %d:\"%(topic_idx + 1))\n",
        "    print(\" \".join([feature_names[i]\n",
        "                    for i in topic.argsort()\\\n",
        "                        [:-n_top_words-1:-1]]))"
      ],
      "metadata": {
        "execution": {
          "iopub.status.busy": "2024-05-12T13:21:50.309196Z",
          "iopub.execute_input": "2024-05-12T13:21:50.309444Z",
          "iopub.status.idle": "2024-05-12T13:23:53.320944Z",
          "shell.execute_reply.started": "2024-05-12T13:21:50.309423Z",
          "shell.execute_reply": "2024-05-12T13:23:53.320030Z"
        },
        "trusted": true,
        "id": "m1U4Jtygg6Os",
        "outputId": "dd42e2c1-460c-4517-e8d1-a3484d3eaaae"
      },
      "execution_count": null,
      "outputs": [
        {
          "name": "stdout",
          "text": "Topic 1:\nmoney educ thank need talk great support liter govern fight\nTopic 2:\nlove countri turn lost save case sorri ye stop wrong\nTopic 3:\nwork today someth man actual hard right day respons diseas\nTopic 4:\ngot time amaz watch hope use alcohol everi anyth money\nTopic 5:\nlike good look na gon perfect everyon doe morn mind\nTopic 6:\nnew job real pay black happi justic account birthday class\nTopic 7:\nwa death hi did covid year damag caus funni said\nTopic 8:\nnice day veri person super hi night product understand uniqu\nTopic 9:\nsad like peopl feel broken anger realli know becaus think\nTopic 10:\nhealth mental alon let peopl whi blame pleas want thing\n",
          "output_type": "stream"
        }
      ]
    },
    {
      "cell_type": "markdown",
      "source": [
        "* Topic  1: ???\n",
        "* Topic  2: ???\n",
        "* Topic  3: ???\n",
        "* Topic  4: ???\n",
        "* Topic  5: Generally positive tweets (1)?\n",
        "* Topic  6: ???\n",
        "* Topic  7: Tweets about COVID-19.\n",
        "* Topic  8: Generally positive tweets (2)?\n",
        "* Topic  9: Generally depressed tweets (1)?\n",
        "* Topic 10: Generally depressed tweets (2)?"
      ],
      "metadata": {
        "id": "ljIso-nGo-1i"
      }
    }
  ]
}